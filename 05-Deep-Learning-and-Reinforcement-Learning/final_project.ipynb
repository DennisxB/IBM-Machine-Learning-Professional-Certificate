{
  "cells": [
    {
      "cell_type": "markdown",
      "source": [
        "# IBM MACHINE LEARNING PROFESSIONAL CERTIFICATE SPECIALIZATION: DEEP LEARNING AND REINFORCEMENT LEARNING\n",
        "##By: DENNIS KWEKU BOTWE "
      ],
      "metadata": {
        "id": "E2nYcdY6PiM5"
      },
      "id": "E2nYcdY6PiM5"
    },
    {
      "cell_type": "markdown",
      "id": "c68e201d",
      "metadata": {
        "id": "c68e201d"
      },
      "source": [
        "## Data Description \n",
        "The telco company’s data set is available on Kaggle, which stems from the IBM sample set collection. The company provides home and internet services to 7043 customers in California. Our challenge is to help the company analyze all relevant customer data to develop focused customer retention programs.The data is obtained from kaggle(https://www.kaggle.com/datasets/blastchar/telco-customer-churn).  \n",
        "The dataset consists of 7043 columns and 21 rows.\n",
        "Churn is the target variable to predict. This column is 'Yes' if the customer churned  or 'No' if the customer is still with the company. \n"
      ]
    },
    {
      "cell_type": "markdown",
      "id": "052de788",
      "metadata": {
        "id": "052de788"
      },
      "source": [
        "## importing libraries"
      ]
    },
    {
      "cell_type": "code",
      "execution_count": null,
      "id": "b6d828fe",
      "metadata": {
        "id": "b6d828fe"
      },
      "outputs": [],
      "source": [
        "import pandas as pd\n",
        "import numpy as np\n",
        "import matplotlib.pyplot as plt\n",
        "import seaborn as sns\n",
        "%matplotlib inline \n",
        "sns.set()\n",
        "\n",
        "from sklearn.impute import SimpleImputer\n",
        "from sklearn.preprocessing import LabelEncoder, OneHotEncoder\n",
        "from sklearn.compose import ColumnTransformer\n",
        "from sklearn.preprocessing import OneHotEncoder\n",
        "from sklearn.metrics import confusion_matrix, precision_recall_curve, roc_auc_score, roc_curve, accuracy_score\n",
        "from sklearn.model_selection import train_test_split\n",
        "from sklearn.preprocessing import MinMaxScaler\n",
        "from sklearn.preprocessing import StandardScaler \n",
        "\n",
        "from keras.models import Sequential \n",
        "from keras.layers import Input, Dense, Dropout \n",
        "from tensorflow.keras.optimizers import Adam, RMSprop, SGD\n",
        "from tensorflow.keras.constraints import MaxNorm"
      ]
    },
    {
      "cell_type": "code",
      "execution_count": null,
      "id": "7edbd1ad",
      "metadata": {
        "id": "7edbd1ad"
      },
      "outputs": [],
      "source": [
        "# loading data\n",
        "df = pd.read_csv('data/customer_churn_data.csv')"
      ]
    },
    {
      "cell_type": "code",
      "execution_count": null,
      "id": "5d936220",
      "metadata": {
        "colab": {
          "base_uri": "https://localhost:8080/"
        },
        "id": "5d936220",
        "outputId": "ef2cf32c-6f32-411d-f5f2-19b10d205286"
      },
      "outputs": [
        {
          "output_type": "execute_result",
          "data": {
            "text/plain": [
              "(7043, 21)"
            ]
          },
          "metadata": {},
          "execution_count": 47
        }
      ],
      "source": [
        "### data shape\n",
        "df.shape"
      ]
    },
    {
      "cell_type": "markdown",
      "id": "3708956f",
      "metadata": {
        "id": "3708956f"
      },
      "source": [
        "The dataset consists of 7043 columns and 21 rows."
      ]
    },
    {
      "cell_type": "code",
      "execution_count": null,
      "id": "ea758bab",
      "metadata": {
        "scrolled": true,
        "colab": {
          "base_uri": "https://localhost:8080/",
          "height": 386
        },
        "id": "ea758bab",
        "outputId": "43304e9d-1178-466e-d8b4-2bc9b19c5d42"
      },
      "outputs": [
        {
          "output_type": "execute_result",
          "data": {
            "text/plain": [
              "   customerID  gender  SeniorCitizen Partner Dependents  tenure PhoneService  \\\n",
              "0  7590-VHVEG  Female              0     Yes         No       1           No   \n",
              "1  5575-GNVDE    Male              0      No         No      34          Yes   \n",
              "2  3668-QPYBK    Male              0      No         No       2          Yes   \n",
              "3  7795-CFOCW    Male              0      No         No      45           No   \n",
              "4  9237-HQITU  Female              0      No         No       2          Yes   \n",
              "\n",
              "      MultipleLines InternetService OnlineSecurity  ... DeviceProtection  \\\n",
              "0  No phone service             DSL             No  ...               No   \n",
              "1                No             DSL            Yes  ...              Yes   \n",
              "2                No             DSL            Yes  ...               No   \n",
              "3  No phone service             DSL            Yes  ...              Yes   \n",
              "4                No     Fiber optic             No  ...               No   \n",
              "\n",
              "  TechSupport StreamingTV StreamingMovies        Contract PaperlessBilling  \\\n",
              "0          No          No              No  Month-to-month              Yes   \n",
              "1          No          No              No        One year               No   \n",
              "2          No          No              No  Month-to-month              Yes   \n",
              "3         Yes          No              No        One year               No   \n",
              "4          No          No              No  Month-to-month              Yes   \n",
              "\n",
              "               PaymentMethod MonthlyCharges  TotalCharges Churn  \n",
              "0           Electronic check          29.85         29.85    No  \n",
              "1               Mailed check          56.95        1889.5    No  \n",
              "2               Mailed check          53.85        108.15   Yes  \n",
              "3  Bank transfer (automatic)          42.30       1840.75    No  \n",
              "4           Electronic check          70.70        151.65   Yes  \n",
              "\n",
              "[5 rows x 21 columns]"
            ],
            "text/html": [
              "\n",
              "  <div id=\"df-2caec4f7-e528-42e8-9a55-cc6a9e6e4c74\">\n",
              "    <div class=\"colab-df-container\">\n",
              "      <div>\n",
              "<style scoped>\n",
              "    .dataframe tbody tr th:only-of-type {\n",
              "        vertical-align: middle;\n",
              "    }\n",
              "\n",
              "    .dataframe tbody tr th {\n",
              "        vertical-align: top;\n",
              "    }\n",
              "\n",
              "    .dataframe thead th {\n",
              "        text-align: right;\n",
              "    }\n",
              "</style>\n",
              "<table border=\"1\" class=\"dataframe\">\n",
              "  <thead>\n",
              "    <tr style=\"text-align: right;\">\n",
              "      <th></th>\n",
              "      <th>customerID</th>\n",
              "      <th>gender</th>\n",
              "      <th>SeniorCitizen</th>\n",
              "      <th>Partner</th>\n",
              "      <th>Dependents</th>\n",
              "      <th>tenure</th>\n",
              "      <th>PhoneService</th>\n",
              "      <th>MultipleLines</th>\n",
              "      <th>InternetService</th>\n",
              "      <th>OnlineSecurity</th>\n",
              "      <th>...</th>\n",
              "      <th>DeviceProtection</th>\n",
              "      <th>TechSupport</th>\n",
              "      <th>StreamingTV</th>\n",
              "      <th>StreamingMovies</th>\n",
              "      <th>Contract</th>\n",
              "      <th>PaperlessBilling</th>\n",
              "      <th>PaymentMethod</th>\n",
              "      <th>MonthlyCharges</th>\n",
              "      <th>TotalCharges</th>\n",
              "      <th>Churn</th>\n",
              "    </tr>\n",
              "  </thead>\n",
              "  <tbody>\n",
              "    <tr>\n",
              "      <th>0</th>\n",
              "      <td>7590-VHVEG</td>\n",
              "      <td>Female</td>\n",
              "      <td>0</td>\n",
              "      <td>Yes</td>\n",
              "      <td>No</td>\n",
              "      <td>1</td>\n",
              "      <td>No</td>\n",
              "      <td>No phone service</td>\n",
              "      <td>DSL</td>\n",
              "      <td>No</td>\n",
              "      <td>...</td>\n",
              "      <td>No</td>\n",
              "      <td>No</td>\n",
              "      <td>No</td>\n",
              "      <td>No</td>\n",
              "      <td>Month-to-month</td>\n",
              "      <td>Yes</td>\n",
              "      <td>Electronic check</td>\n",
              "      <td>29.85</td>\n",
              "      <td>29.85</td>\n",
              "      <td>No</td>\n",
              "    </tr>\n",
              "    <tr>\n",
              "      <th>1</th>\n",
              "      <td>5575-GNVDE</td>\n",
              "      <td>Male</td>\n",
              "      <td>0</td>\n",
              "      <td>No</td>\n",
              "      <td>No</td>\n",
              "      <td>34</td>\n",
              "      <td>Yes</td>\n",
              "      <td>No</td>\n",
              "      <td>DSL</td>\n",
              "      <td>Yes</td>\n",
              "      <td>...</td>\n",
              "      <td>Yes</td>\n",
              "      <td>No</td>\n",
              "      <td>No</td>\n",
              "      <td>No</td>\n",
              "      <td>One year</td>\n",
              "      <td>No</td>\n",
              "      <td>Mailed check</td>\n",
              "      <td>56.95</td>\n",
              "      <td>1889.5</td>\n",
              "      <td>No</td>\n",
              "    </tr>\n",
              "    <tr>\n",
              "      <th>2</th>\n",
              "      <td>3668-QPYBK</td>\n",
              "      <td>Male</td>\n",
              "      <td>0</td>\n",
              "      <td>No</td>\n",
              "      <td>No</td>\n",
              "      <td>2</td>\n",
              "      <td>Yes</td>\n",
              "      <td>No</td>\n",
              "      <td>DSL</td>\n",
              "      <td>Yes</td>\n",
              "      <td>...</td>\n",
              "      <td>No</td>\n",
              "      <td>No</td>\n",
              "      <td>No</td>\n",
              "      <td>No</td>\n",
              "      <td>Month-to-month</td>\n",
              "      <td>Yes</td>\n",
              "      <td>Mailed check</td>\n",
              "      <td>53.85</td>\n",
              "      <td>108.15</td>\n",
              "      <td>Yes</td>\n",
              "    </tr>\n",
              "    <tr>\n",
              "      <th>3</th>\n",
              "      <td>7795-CFOCW</td>\n",
              "      <td>Male</td>\n",
              "      <td>0</td>\n",
              "      <td>No</td>\n",
              "      <td>No</td>\n",
              "      <td>45</td>\n",
              "      <td>No</td>\n",
              "      <td>No phone service</td>\n",
              "      <td>DSL</td>\n",
              "      <td>Yes</td>\n",
              "      <td>...</td>\n",
              "      <td>Yes</td>\n",
              "      <td>Yes</td>\n",
              "      <td>No</td>\n",
              "      <td>No</td>\n",
              "      <td>One year</td>\n",
              "      <td>No</td>\n",
              "      <td>Bank transfer (automatic)</td>\n",
              "      <td>42.30</td>\n",
              "      <td>1840.75</td>\n",
              "      <td>No</td>\n",
              "    </tr>\n",
              "    <tr>\n",
              "      <th>4</th>\n",
              "      <td>9237-HQITU</td>\n",
              "      <td>Female</td>\n",
              "      <td>0</td>\n",
              "      <td>No</td>\n",
              "      <td>No</td>\n",
              "      <td>2</td>\n",
              "      <td>Yes</td>\n",
              "      <td>No</td>\n",
              "      <td>Fiber optic</td>\n",
              "      <td>No</td>\n",
              "      <td>...</td>\n",
              "      <td>No</td>\n",
              "      <td>No</td>\n",
              "      <td>No</td>\n",
              "      <td>No</td>\n",
              "      <td>Month-to-month</td>\n",
              "      <td>Yes</td>\n",
              "      <td>Electronic check</td>\n",
              "      <td>70.70</td>\n",
              "      <td>151.65</td>\n",
              "      <td>Yes</td>\n",
              "    </tr>\n",
              "  </tbody>\n",
              "</table>\n",
              "<p>5 rows × 21 columns</p>\n",
              "</div>\n",
              "      <button class=\"colab-df-convert\" onclick=\"convertToInteractive('df-2caec4f7-e528-42e8-9a55-cc6a9e6e4c74')\"\n",
              "              title=\"Convert this dataframe to an interactive table.\"\n",
              "              style=\"display:none;\">\n",
              "        \n",
              "  <svg xmlns=\"http://www.w3.org/2000/svg\" height=\"24px\"viewBox=\"0 0 24 24\"\n",
              "       width=\"24px\">\n",
              "    <path d=\"M0 0h24v24H0V0z\" fill=\"none\"/>\n",
              "    <path d=\"M18.56 5.44l.94 2.06.94-2.06 2.06-.94-2.06-.94-.94-2.06-.94 2.06-2.06.94zm-11 1L8.5 8.5l.94-2.06 2.06-.94-2.06-.94L8.5 2.5l-.94 2.06-2.06.94zm10 10l.94 2.06.94-2.06 2.06-.94-2.06-.94-.94-2.06-.94 2.06-2.06.94z\"/><path d=\"M17.41 7.96l-1.37-1.37c-.4-.4-.92-.59-1.43-.59-.52 0-1.04.2-1.43.59L10.3 9.45l-7.72 7.72c-.78.78-.78 2.05 0 2.83L4 21.41c.39.39.9.59 1.41.59.51 0 1.02-.2 1.41-.59l7.78-7.78 2.81-2.81c.8-.78.8-2.07 0-2.86zM5.41 20L4 18.59l7.72-7.72 1.47 1.35L5.41 20z\"/>\n",
              "  </svg>\n",
              "      </button>\n",
              "      \n",
              "  <style>\n",
              "    .colab-df-container {\n",
              "      display:flex;\n",
              "      flex-wrap:wrap;\n",
              "      gap: 12px;\n",
              "    }\n",
              "\n",
              "    .colab-df-convert {\n",
              "      background-color: #E8F0FE;\n",
              "      border: none;\n",
              "      border-radius: 50%;\n",
              "      cursor: pointer;\n",
              "      display: none;\n",
              "      fill: #1967D2;\n",
              "      height: 32px;\n",
              "      padding: 0 0 0 0;\n",
              "      width: 32px;\n",
              "    }\n",
              "\n",
              "    .colab-df-convert:hover {\n",
              "      background-color: #E2EBFA;\n",
              "      box-shadow: 0px 1px 2px rgba(60, 64, 67, 0.3), 0px 1px 3px 1px rgba(60, 64, 67, 0.15);\n",
              "      fill: #174EA6;\n",
              "    }\n",
              "\n",
              "    [theme=dark] .colab-df-convert {\n",
              "      background-color: #3B4455;\n",
              "      fill: #D2E3FC;\n",
              "    }\n",
              "\n",
              "    [theme=dark] .colab-df-convert:hover {\n",
              "      background-color: #434B5C;\n",
              "      box-shadow: 0px 1px 3px 1px rgba(0, 0, 0, 0.15);\n",
              "      filter: drop-shadow(0px 1px 2px rgba(0, 0, 0, 0.3));\n",
              "      fill: #FFFFFF;\n",
              "    }\n",
              "  </style>\n",
              "\n",
              "      <script>\n",
              "        const buttonEl =\n",
              "          document.querySelector('#df-2caec4f7-e528-42e8-9a55-cc6a9e6e4c74 button.colab-df-convert');\n",
              "        buttonEl.style.display =\n",
              "          google.colab.kernel.accessAllowed ? 'block' : 'none';\n",
              "\n",
              "        async function convertToInteractive(key) {\n",
              "          const element = document.querySelector('#df-2caec4f7-e528-42e8-9a55-cc6a9e6e4c74');\n",
              "          const dataTable =\n",
              "            await google.colab.kernel.invokeFunction('convertToInteractive',\n",
              "                                                     [key], {});\n",
              "          if (!dataTable) return;\n",
              "\n",
              "          const docLinkHtml = 'Like what you see? Visit the ' +\n",
              "            '<a target=\"_blank\" href=https://colab.research.google.com/notebooks/data_table.ipynb>data table notebook</a>'\n",
              "            + ' to learn more about interactive tables.';\n",
              "          element.innerHTML = '';\n",
              "          dataTable['output_type'] = 'display_data';\n",
              "          await google.colab.output.renderOutput(dataTable, element);\n",
              "          const docLink = document.createElement('div');\n",
              "          docLink.innerHTML = docLinkHtml;\n",
              "          element.appendChild(docLink);\n",
              "        }\n",
              "      </script>\n",
              "    </div>\n",
              "  </div>\n",
              "  "
            ]
          },
          "metadata": {},
          "execution_count": 48
        }
      ],
      "source": [
        "#reading data\n",
        "df.head()"
      ]
    },
    {
      "cell_type": "markdown",
      "id": "d30a6a58",
      "metadata": {
        "id": "d30a6a58"
      },
      "source": [
        "Churn is the target variable to predict. This column is 'Yes' if the customer churned  or 'No' if the customer is still with the company.Other attributes which the dataset contains are:"
      ]
    },
    {
      "cell_type": "code",
      "execution_count": null,
      "id": "0c828f98",
      "metadata": {
        "colab": {
          "base_uri": "https://localhost:8080/"
        },
        "id": "0c828f98",
        "outputId": "5490d694-7d31-4c32-e275-1707138aef4b"
      },
      "outputs": [
        {
          "output_type": "execute_result",
          "data": {
            "text/plain": [
              "['customerID',\n",
              " 'gender',\n",
              " 'SeniorCitizen',\n",
              " 'Partner',\n",
              " 'Dependents',\n",
              " 'tenure',\n",
              " 'PhoneService',\n",
              " 'MultipleLines',\n",
              " 'InternetService',\n",
              " 'OnlineSecurity',\n",
              " 'OnlineBackup',\n",
              " 'DeviceProtection',\n",
              " 'TechSupport',\n",
              " 'StreamingTV',\n",
              " 'StreamingMovies',\n",
              " 'Contract',\n",
              " 'PaperlessBilling',\n",
              " 'PaymentMethod',\n",
              " 'MonthlyCharges',\n",
              " 'TotalCharges',\n",
              " 'Churn']"
            ]
          },
          "metadata": {},
          "execution_count": 49
        }
      ],
      "source": [
        "# data columns\n",
        "df.columns.tolist()"
      ]
    },
    {
      "cell_type": "markdown",
      "id": "43a791c1",
      "metadata": {
        "id": "43a791c1"
      },
      "source": [
        "## Plan for Data exploration\n",
        "Here are the steps I will use to establish a baseline model to determine whether there is any strong correlation between the different factors and the target variable:\n",
        "1. Data Overview\n",
        "2. Data Cleaning and Feature Engineering: Numeric Data\n",
        "3. Data Cleaning and Feature Engineering: Categorical Data\n",
        "4. Hypothesis Testing\n"
      ]
    },
    {
      "cell_type": "markdown",
      "id": "3aa701af",
      "metadata": {
        "id": "3aa701af"
      },
      "source": [
        "## Data Overview"
      ]
    },
    {
      "cell_type": "code",
      "execution_count": null,
      "id": "547920ec",
      "metadata": {
        "colab": {
          "base_uri": "https://localhost:8080/"
        },
        "id": "547920ec",
        "outputId": "1f0e5bcf-b140-491a-ff40-6aa974e55b04"
      },
      "outputs": [
        {
          "output_type": "execute_result",
          "data": {
            "text/plain": [
              "(7043, 21)"
            ]
          },
          "metadata": {},
          "execution_count": 50
        }
      ],
      "source": [
        "df.shape  #shape data"
      ]
    },
    {
      "cell_type": "markdown",
      "id": "04f72c16",
      "metadata": {
        "id": "04f72c16"
      },
      "source": [
        " The dataset has **7043 rows** and **21\n",
        "  columns**"
      ]
    },
    {
      "cell_type": "code",
      "execution_count": null,
      "id": "d122546b",
      "metadata": {
        "colab": {
          "base_uri": "https://localhost:8080/"
        },
        "id": "d122546b",
        "outputId": "7b4d738c-e870-411a-ba13-641751d4c3af"
      },
      "outputs": [
        {
          "output_type": "execute_result",
          "data": {
            "text/plain": [
              "['customerID',\n",
              " 'gender',\n",
              " 'SeniorCitizen',\n",
              " 'Partner',\n",
              " 'Dependents',\n",
              " 'tenure',\n",
              " 'PhoneService',\n",
              " 'MultipleLines',\n",
              " 'InternetService',\n",
              " 'OnlineSecurity',\n",
              " 'OnlineBackup',\n",
              " 'DeviceProtection',\n",
              " 'TechSupport',\n",
              " 'StreamingTV',\n",
              " 'StreamingMovies',\n",
              " 'Contract',\n",
              " 'PaperlessBilling',\n",
              " 'PaymentMethod',\n",
              " 'MonthlyCharges',\n",
              " 'TotalCharges',\n",
              " 'Churn']"
            ]
          },
          "metadata": {},
          "execution_count": 51
        }
      ],
      "source": [
        "df.columns.tolist() # columns in the dataframe\n"
      ]
    },
    {
      "cell_type": "markdown",
      "id": "ef727e5d",
      "metadata": {
        "id": "ef727e5d"
      },
      "source": [
        "The columns in the dataset with the target variable being **Churn**"
      ]
    },
    {
      "cell_type": "code",
      "execution_count": null,
      "id": "487ada07",
      "metadata": {
        "colab": {
          "base_uri": "https://localhost:8080/"
        },
        "id": "487ada07",
        "outputId": "36ba122c-f1c6-47b5-c79a-caf2e77d846b"
      },
      "outputs": [
        {
          "output_type": "stream",
          "name": "stdout",
          "text": [
            "<class 'pandas.core.frame.DataFrame'>\n",
            "RangeIndex: 7043 entries, 0 to 7042\n",
            "Data columns (total 21 columns):\n",
            " #   Column            Non-Null Count  Dtype  \n",
            "---  ------            --------------  -----  \n",
            " 0   customerID        7043 non-null   object \n",
            " 1   gender            7043 non-null   object \n",
            " 2   SeniorCitizen     7043 non-null   int64  \n",
            " 3   Partner           7043 non-null   object \n",
            " 4   Dependents        7043 non-null   object \n",
            " 5   tenure            7043 non-null   int64  \n",
            " 6   PhoneService      7043 non-null   object \n",
            " 7   MultipleLines     7043 non-null   object \n",
            " 8   InternetService   7043 non-null   object \n",
            " 9   OnlineSecurity    7043 non-null   object \n",
            " 10  OnlineBackup      7043 non-null   object \n",
            " 11  DeviceProtection  7043 non-null   object \n",
            " 12  TechSupport       7043 non-null   object \n",
            " 13  StreamingTV       7043 non-null   object \n",
            " 14  StreamingMovies   7043 non-null   object \n",
            " 15  Contract          7043 non-null   object \n",
            " 16  PaperlessBilling  7043 non-null   object \n",
            " 17  PaymentMethod     7043 non-null   object \n",
            " 18  MonthlyCharges    7043 non-null   float64\n",
            " 19  TotalCharges      7043 non-null   object \n",
            " 20  Churn             7043 non-null   object \n",
            "dtypes: float64(1), int64(2), object(18)\n",
            "memory usage: 1.1+ MB\n"
          ]
        }
      ],
      "source": [
        "#data information \n",
        "df.info()"
      ]
    },
    {
      "cell_type": "markdown",
      "id": "df6ee512",
      "metadata": {
        "id": "df6ee512"
      },
      "source": [
        "The dataset consists of both numeric and categorical values \n",
        "There are no missing values in the dataset\n",
        "There were two numeric data types, int64 and float64.  "
      ]
    },
    {
      "cell_type": "code",
      "execution_count": null,
      "id": "54c57f51",
      "metadata": {
        "colab": {
          "base_uri": "https://localhost:8080/",
          "height": 300
        },
        "id": "54c57f51",
        "outputId": "bc9100cf-a48e-467c-b85a-b7a0e7d272ae"
      },
      "outputs": [
        {
          "output_type": "execute_result",
          "data": {
            "text/plain": [
              "       SeniorCitizen       tenure  MonthlyCharges\n",
              "count    7043.000000  7043.000000     7043.000000\n",
              "mean        0.162147    32.371149       64.761692\n",
              "std         0.368612    24.559481       30.090047\n",
              "min         0.000000     0.000000       18.250000\n",
              "25%         0.000000     9.000000       35.500000\n",
              "50%         0.000000    29.000000       70.350000\n",
              "75%         0.000000    55.000000       89.850000\n",
              "max         1.000000    72.000000      118.750000"
            ],
            "text/html": [
              "\n",
              "  <div id=\"df-80507eca-c812-4bbe-8d43-8be547de7819\">\n",
              "    <div class=\"colab-df-container\">\n",
              "      <div>\n",
              "<style scoped>\n",
              "    .dataframe tbody tr th:only-of-type {\n",
              "        vertical-align: middle;\n",
              "    }\n",
              "\n",
              "    .dataframe tbody tr th {\n",
              "        vertical-align: top;\n",
              "    }\n",
              "\n",
              "    .dataframe thead th {\n",
              "        text-align: right;\n",
              "    }\n",
              "</style>\n",
              "<table border=\"1\" class=\"dataframe\">\n",
              "  <thead>\n",
              "    <tr style=\"text-align: right;\">\n",
              "      <th></th>\n",
              "      <th>SeniorCitizen</th>\n",
              "      <th>tenure</th>\n",
              "      <th>MonthlyCharges</th>\n",
              "    </tr>\n",
              "  </thead>\n",
              "  <tbody>\n",
              "    <tr>\n",
              "      <th>count</th>\n",
              "      <td>7043.000000</td>\n",
              "      <td>7043.000000</td>\n",
              "      <td>7043.000000</td>\n",
              "    </tr>\n",
              "    <tr>\n",
              "      <th>mean</th>\n",
              "      <td>0.162147</td>\n",
              "      <td>32.371149</td>\n",
              "      <td>64.761692</td>\n",
              "    </tr>\n",
              "    <tr>\n",
              "      <th>std</th>\n",
              "      <td>0.368612</td>\n",
              "      <td>24.559481</td>\n",
              "      <td>30.090047</td>\n",
              "    </tr>\n",
              "    <tr>\n",
              "      <th>min</th>\n",
              "      <td>0.000000</td>\n",
              "      <td>0.000000</td>\n",
              "      <td>18.250000</td>\n",
              "    </tr>\n",
              "    <tr>\n",
              "      <th>25%</th>\n",
              "      <td>0.000000</td>\n",
              "      <td>9.000000</td>\n",
              "      <td>35.500000</td>\n",
              "    </tr>\n",
              "    <tr>\n",
              "      <th>50%</th>\n",
              "      <td>0.000000</td>\n",
              "      <td>29.000000</td>\n",
              "      <td>70.350000</td>\n",
              "    </tr>\n",
              "    <tr>\n",
              "      <th>75%</th>\n",
              "      <td>0.000000</td>\n",
              "      <td>55.000000</td>\n",
              "      <td>89.850000</td>\n",
              "    </tr>\n",
              "    <tr>\n",
              "      <th>max</th>\n",
              "      <td>1.000000</td>\n",
              "      <td>72.000000</td>\n",
              "      <td>118.750000</td>\n",
              "    </tr>\n",
              "  </tbody>\n",
              "</table>\n",
              "</div>\n",
              "      <button class=\"colab-df-convert\" onclick=\"convertToInteractive('df-80507eca-c812-4bbe-8d43-8be547de7819')\"\n",
              "              title=\"Convert this dataframe to an interactive table.\"\n",
              "              style=\"display:none;\">\n",
              "        \n",
              "  <svg xmlns=\"http://www.w3.org/2000/svg\" height=\"24px\"viewBox=\"0 0 24 24\"\n",
              "       width=\"24px\">\n",
              "    <path d=\"M0 0h24v24H0V0z\" fill=\"none\"/>\n",
              "    <path d=\"M18.56 5.44l.94 2.06.94-2.06 2.06-.94-2.06-.94-.94-2.06-.94 2.06-2.06.94zm-11 1L8.5 8.5l.94-2.06 2.06-.94-2.06-.94L8.5 2.5l-.94 2.06-2.06.94zm10 10l.94 2.06.94-2.06 2.06-.94-2.06-.94-.94-2.06-.94 2.06-2.06.94z\"/><path d=\"M17.41 7.96l-1.37-1.37c-.4-.4-.92-.59-1.43-.59-.52 0-1.04.2-1.43.59L10.3 9.45l-7.72 7.72c-.78.78-.78 2.05 0 2.83L4 21.41c.39.39.9.59 1.41.59.51 0 1.02-.2 1.41-.59l7.78-7.78 2.81-2.81c.8-.78.8-2.07 0-2.86zM5.41 20L4 18.59l7.72-7.72 1.47 1.35L5.41 20z\"/>\n",
              "  </svg>\n",
              "      </button>\n",
              "      \n",
              "  <style>\n",
              "    .colab-df-container {\n",
              "      display:flex;\n",
              "      flex-wrap:wrap;\n",
              "      gap: 12px;\n",
              "    }\n",
              "\n",
              "    .colab-df-convert {\n",
              "      background-color: #E8F0FE;\n",
              "      border: none;\n",
              "      border-radius: 50%;\n",
              "      cursor: pointer;\n",
              "      display: none;\n",
              "      fill: #1967D2;\n",
              "      height: 32px;\n",
              "      padding: 0 0 0 0;\n",
              "      width: 32px;\n",
              "    }\n",
              "\n",
              "    .colab-df-convert:hover {\n",
              "      background-color: #E2EBFA;\n",
              "      box-shadow: 0px 1px 2px rgba(60, 64, 67, 0.3), 0px 1px 3px 1px rgba(60, 64, 67, 0.15);\n",
              "      fill: #174EA6;\n",
              "    }\n",
              "\n",
              "    [theme=dark] .colab-df-convert {\n",
              "      background-color: #3B4455;\n",
              "      fill: #D2E3FC;\n",
              "    }\n",
              "\n",
              "    [theme=dark] .colab-df-convert:hover {\n",
              "      background-color: #434B5C;\n",
              "      box-shadow: 0px 1px 3px 1px rgba(0, 0, 0, 0.15);\n",
              "      filter: drop-shadow(0px 1px 2px rgba(0, 0, 0, 0.3));\n",
              "      fill: #FFFFFF;\n",
              "    }\n",
              "  </style>\n",
              "\n",
              "      <script>\n",
              "        const buttonEl =\n",
              "          document.querySelector('#df-80507eca-c812-4bbe-8d43-8be547de7819 button.colab-df-convert');\n",
              "        buttonEl.style.display =\n",
              "          google.colab.kernel.accessAllowed ? 'block' : 'none';\n",
              "\n",
              "        async function convertToInteractive(key) {\n",
              "          const element = document.querySelector('#df-80507eca-c812-4bbe-8d43-8be547de7819');\n",
              "          const dataTable =\n",
              "            await google.colab.kernel.invokeFunction('convertToInteractive',\n",
              "                                                     [key], {});\n",
              "          if (!dataTable) return;\n",
              "\n",
              "          const docLinkHtml = 'Like what you see? Visit the ' +\n",
              "            '<a target=\"_blank\" href=https://colab.research.google.com/notebooks/data_table.ipynb>data table notebook</a>'\n",
              "            + ' to learn more about interactive tables.';\n",
              "          element.innerHTML = '';\n",
              "          dataTable['output_type'] = 'display_data';\n",
              "          await google.colab.output.renderOutput(dataTable, element);\n",
              "          const docLink = document.createElement('div');\n",
              "          docLink.innerHTML = docLinkHtml;\n",
              "          element.appendChild(docLink);\n",
              "        }\n",
              "      </script>\n",
              "    </div>\n",
              "  </div>\n",
              "  "
            ]
          },
          "metadata": {},
          "execution_count": 53
        }
      ],
      "source": [
        "df.describe()"
      ]
    },
    {
      "cell_type": "markdown",
      "id": "f7ec2339",
      "metadata": {
        "id": "f7ec2339"
      },
      "source": [
        "On average, telecom customers remain for 32 months and pay $64 per month, though this could result from different contracts."
      ]
    },
    {
      "cell_type": "code",
      "execution_count": null,
      "id": "9c89f160",
      "metadata": {
        "colab": {
          "base_uri": "https://localhost:8080/"
        },
        "id": "9c89f160",
        "outputId": "5ad51d9c-904f-4d18-cf14-b895409bf796"
      },
      "outputs": [
        {
          "output_type": "execute_result",
          "data": {
            "text/plain": [
              "No     5174\n",
              "Yes    1869\n",
              "Name: Churn, dtype: int64"
            ]
          },
          "metadata": {},
          "execution_count": 54
        }
      ],
      "source": [
        "# unique value counts \n",
        "df.Churn.value_counts()"
      ]
    },
    {
      "cell_type": "markdown",
      "id": "67b82949",
      "metadata": {
        "id": "67b82949"
      },
      "source": [
        "The Churn column contains two value counts with less 'Yes' than 'No'\n",
        "This interpret more customers leaving the company."
      ]
    },
    {
      "cell_type": "markdown",
      "id": "2884a345",
      "metadata": {
        "id": "2884a345"
      },
      "source": [
        "## Data Cleaning"
      ]
    },
    {
      "cell_type": "markdown",
      "id": "73ba690f",
      "metadata": {
        "id": "73ba690f"
      },
      "source": [
        "**customerID** column drop since unique values does not help in training model\n",
        "20 columns remaining."
      ]
    },
    {
      "cell_type": "code",
      "execution_count": null,
      "id": "8e808146",
      "metadata": {
        "id": "8e808146"
      },
      "outputs": [],
      "source": [
        "df.drop(\"customerID\", axis=1, inplace=True)"
      ]
    },
    {
      "cell_type": "markdown",
      "id": "46895f08",
      "metadata": {
        "id": "46895f08"
      },
      "source": [
        "Changed the data type of 'TotalCharges' from an interger to a float"
      ]
    },
    {
      "cell_type": "code",
      "execution_count": null,
      "id": "c080c32c",
      "metadata": {
        "id": "c080c32c"
      },
      "outputs": [],
      "source": [
        "df.SeniorCitizen.replace([0, 1], [\"No\", \"Yes\"], inplace= True)\n",
        "df.TotalCharges.replace([\" \"], [\"0\"], inplace= True) \n",
        "df.TotalCharges = df.TotalCharges.astype(float) \n",
        "df.Churn.replace([\"Yes\", \"No\"], [1, 0], inplace= True)"
      ]
    },
    {
      "cell_type": "markdown",
      "id": "b945ae3d",
      "metadata": {
        "id": "b945ae3d"
      },
      "source": [
        "## Feature Engineering for Numerical columns"
      ]
    },
    {
      "cell_type": "code",
      "execution_count": null,
      "id": "558e2948",
      "metadata": {
        "colab": {
          "base_uri": "https://localhost:8080/",
          "height": 371
        },
        "id": "558e2948",
        "outputId": "d93b3e57-bb8e-4a73-f6ae-fc4f447b8e50"
      },
      "outputs": [
        {
          "output_type": "execute_result",
          "data": {
            "text/plain": [
              "array([[<matplotlib.axes._subplots.AxesSubplot object at 0x7f800f621a90>,\n",
              "        <matplotlib.axes._subplots.AxesSubplot object at 0x7f800f5aa3d0>],\n",
              "       [<matplotlib.axes._subplots.AxesSubplot object at 0x7f800f57ec50>,\n",
              "        <matplotlib.axes._subplots.AxesSubplot object at 0x7f800f542290>]],\n",
              "      dtype=object)"
            ]
          },
          "metadata": {},
          "execution_count": 58
        },
        {
          "output_type": "display_data",
          "data": {
            "text/plain": [
              "<Figure size 432x288 with 4 Axes>"
            ],
            "image/png": "[encoded data removed]"
          },
          "metadata": {}
        }
      ],
      "source": [
        "num_cols = df.select_dtypes('number')\n",
        "num_cols.hist()"
      ]
    },
    {
      "cell_type": "markdown",
      "id": "cbeec69a",
      "metadata": {
        "id": "cbeec69a"
      },
      "source": [
        "Some of the features seem to be skewed.\n",
        "Perfi"
      ]
    },
    {
      "cell_type": "markdown",
      "id": "09cf8d83",
      "metadata": {
        "id": "09cf8d83"
      },
      "source": [
        "## Feature Engineering for Categorical columns\n",
        "\n"
      ]
    },
    {
      "cell_type": "markdown",
      "id": "73dfcae3",
      "metadata": {
        "id": "73dfcae3"
      },
      "source": [
        "label encoding is quite pivotal as they encode categorical labels with appropriate numerical values.\n",
        "Any categorical variable that has more than two unique values are dealt with Label Encoding.\n",
        "\n",
        "The five newly encoded columns:\n",
        "PaperlessBilling, Partner, Dependents, Churn, PhoneService "
      ]
    },
    {
      "cell_type": "code",
      "execution_count": null,
      "id": "2d25dd85",
      "metadata": {
        "colab": {
          "base_uri": "https://localhost:8080/"
        },
        "id": "2d25dd85",
        "outputId": "b440a759-0aaa-4114-c5a7-3e7f100bc7b5"
      },
      "outputs": [
        {
          "output_type": "execute_result",
          "data": {
            "text/plain": [
              "(7043, 47)"
            ]
          },
          "metadata": {},
          "execution_count": 59
        }
      ],
      "source": [
        "#Convert rest of categorical variable into dummy:\n",
        "df= pd.get_dummies(df)\n",
        "df.shape"
      ]
    },
    {
      "cell_type": "markdown",
      "id": "4d0f6411",
      "metadata": {
        "id": "4d0f6411"
      },
      "source": [
        "After the transformation, 22 new rows were added. \n",
        "Making it a total of 42 columns and 7043 rows"
      ]
    },
    {
      "cell_type": "code",
      "source": [
        "df.head()"
      ],
      "metadata": {
        "colab": {
          "base_uri": "https://localhost:8080/",
          "height": 334
        },
        "id": "j8rIdPJk4Ne7",
        "outputId": "e0d8f617-24e0-4519-ca9b-146bf8bbf6b3"
      },
      "id": "j8rIdPJk4Ne7",
      "execution_count": null,
      "outputs": [
        {
          "output_type": "execute_result",
          "data": {
            "text/plain": [
              "   tenure  MonthlyCharges  TotalCharges  Churn  gender_Female  gender_Male  \\\n",
              "0       1           29.85         29.85      0              1            0   \n",
              "1      34           56.95       1889.50      0              0            1   \n",
              "2       2           53.85        108.15      1              0            1   \n",
              "3      45           42.30       1840.75      0              0            1   \n",
              "4       2           70.70        151.65      1              1            0   \n",
              "\n",
              "   SeniorCitizen_No  SeniorCitizen_Yes  Partner_No  Partner_Yes  ...  \\\n",
              "0                 1                  0           0            1  ...   \n",
              "1                 1                  0           1            0  ...   \n",
              "2                 1                  0           1            0  ...   \n",
              "3                 1                  0           1            0  ...   \n",
              "4                 1                  0           1            0  ...   \n",
              "\n",
              "   StreamingMovies_Yes  Contract_Month-to-month  Contract_One year  \\\n",
              "0                    0                        1                  0   \n",
              "1                    0                        0                  1   \n",
              "2                    0                        1                  0   \n",
              "3                    0                        0                  1   \n",
              "4                    0                        1                  0   \n",
              "\n",
              "   Contract_Two year  PaperlessBilling_No  PaperlessBilling_Yes  \\\n",
              "0                  0                    0                     1   \n",
              "1                  0                    1                     0   \n",
              "2                  0                    0                     1   \n",
              "3                  0                    1                     0   \n",
              "4                  0                    0                     1   \n",
              "\n",
              "   PaymentMethod_Bank transfer (automatic)  \\\n",
              "0                                        0   \n",
              "1                                        0   \n",
              "2                                        0   \n",
              "3                                        1   \n",
              "4                                        0   \n",
              "\n",
              "   PaymentMethod_Credit card (automatic)  PaymentMethod_Electronic check  \\\n",
              "0                                      0                               1   \n",
              "1                                      0                               0   \n",
              "2                                      0                               0   \n",
              "3                                      0                               0   \n",
              "4                                      0                               1   \n",
              "\n",
              "   PaymentMethod_Mailed check  \n",
              "0                           0  \n",
              "1                           1  \n",
              "2                           1  \n",
              "3                           0  \n",
              "4                           0  \n",
              "\n",
              "[5 rows x 47 columns]"
            ],
            "text/html": [
              "\n",
              "  <div id=\"df-9feb5a91-3636-468e-95b8-eb0fc787ead5\">\n",
              "    <div class=\"colab-df-container\">\n",
              "      <div>\n",
              "<style scoped>\n",
              "    .dataframe tbody tr th:only-of-type {\n",
              "        vertical-align: middle;\n",
              "    }\n",
              "\n",
              "    .dataframe tbody tr th {\n",
              "        vertical-align: top;\n",
              "    }\n",
              "\n",
              "    .dataframe thead th {\n",
              "        text-align: right;\n",
              "    }\n",
              "</style>\n",
              "<table border=\"1\" class=\"dataframe\">\n",
              "  <thead>\n",
              "    <tr style=\"text-align: right;\">\n",
              "      <th></th>\n",
              "      <th>tenure</th>\n",
              "      <th>MonthlyCharges</th>\n",
              "      <th>TotalCharges</th>\n",
              "      <th>Churn</th>\n",
              "      <th>gender_Female</th>\n",
              "      <th>gender_Male</th>\n",
              "      <th>SeniorCitizen_No</th>\n",
              "      <th>SeniorCitizen_Yes</th>\n",
              "      <th>Partner_No</th>\n",
              "      <th>Partner_Yes</th>\n",
              "      <th>...</th>\n",
              "      <th>StreamingMovies_Yes</th>\n",
              "      <th>Contract_Month-to-month</th>\n",
              "      <th>Contract_One year</th>\n",
              "      <th>Contract_Two year</th>\n",
              "      <th>PaperlessBilling_No</th>\n",
              "      <th>PaperlessBilling_Yes</th>\n",
              "      <th>PaymentMethod_Bank transfer (automatic)</th>\n",
              "      <th>PaymentMethod_Credit card (automatic)</th>\n",
              "      <th>PaymentMethod_Electronic check</th>\n",
              "      <th>PaymentMethod_Mailed check</th>\n",
              "    </tr>\n",
              "  </thead>\n",
              "  <tbody>\n",
              "    <tr>\n",
              "      <th>0</th>\n",
              "      <td>1</td>\n",
              "      <td>29.85</td>\n",
              "      <td>29.85</td>\n",
              "      <td>0</td>\n",
              "      <td>1</td>\n",
              "      <td>0</td>\n",
              "      <td>1</td>\n",
              "      <td>0</td>\n",
              "      <td>0</td>\n",
              "      <td>1</td>\n",
              "      <td>...</td>\n",
              "      <td>0</td>\n",
              "      <td>1</td>\n",
              "      <td>0</td>\n",
              "      <td>0</td>\n",
              "      <td>0</td>\n",
              "      <td>1</td>\n",
              "      <td>0</td>\n",
              "      <td>0</td>\n",
              "      <td>1</td>\n",
              "      <td>0</td>\n",
              "    </tr>\n",
              "    <tr>\n",
              "      <th>1</th>\n",
              "      <td>34</td>\n",
              "      <td>56.95</td>\n",
              "      <td>1889.50</td>\n",
              "      <td>0</td>\n",
              "      <td>0</td>\n",
              "      <td>1</td>\n",
              "      <td>1</td>\n",
              "      <td>0</td>\n",
              "      <td>1</td>\n",
              "      <td>0</td>\n",
              "      <td>...</td>\n",
              "      <td>0</td>\n",
              "      <td>0</td>\n",
              "      <td>1</td>\n",
              "      <td>0</td>\n",
              "      <td>1</td>\n",
              "      <td>0</td>\n",
              "      <td>0</td>\n",
              "      <td>0</td>\n",
              "      <td>0</td>\n",
              "      <td>1</td>\n",
              "    </tr>\n",
              "    <tr>\n",
              "      <th>2</th>\n",
              "      <td>2</td>\n",
              "      <td>53.85</td>\n",
              "      <td>108.15</td>\n",
              "      <td>1</td>\n",
              "      <td>0</td>\n",
              "      <td>1</td>\n",
              "      <td>1</td>\n",
              "      <td>0</td>\n",
              "      <td>1</td>\n",
              "      <td>0</td>\n",
              "      <td>...</td>\n",
              "      <td>0</td>\n",
              "      <td>1</td>\n",
              "      <td>0</td>\n",
              "      <td>0</td>\n",
              "      <td>0</td>\n",
              "      <td>1</td>\n",
              "      <td>0</td>\n",
              "      <td>0</td>\n",
              "      <td>0</td>\n",
              "      <td>1</td>\n",
              "    </tr>\n",
              "    <tr>\n",
              "      <th>3</th>\n",
              "      <td>45</td>\n",
              "      <td>42.30</td>\n",
              "      <td>1840.75</td>\n",
              "      <td>0</td>\n",
              "      <td>0</td>\n",
              "      <td>1</td>\n",
              "      <td>1</td>\n",
              "      <td>0</td>\n",
              "      <td>1</td>\n",
              "      <td>0</td>\n",
              "      <td>...</td>\n",
              "      <td>0</td>\n",
              "      <td>0</td>\n",
              "      <td>1</td>\n",
              "      <td>0</td>\n",
              "      <td>1</td>\n",
              "      <td>0</td>\n",
              "      <td>1</td>\n",
              "      <td>0</td>\n",
              "      <td>0</td>\n",
              "      <td>0</td>\n",
              "    </tr>\n",
              "    <tr>\n",
              "      <th>4</th>\n",
              "      <td>2</td>\n",
              "      <td>70.70</td>\n",
              "      <td>151.65</td>\n",
              "      <td>1</td>\n",
              "      <td>1</td>\n",
              "      <td>0</td>\n",
              "      <td>1</td>\n",
              "      <td>0</td>\n",
              "      <td>1</td>\n",
              "      <td>0</td>\n",
              "      <td>...</td>\n",
              "      <td>0</td>\n",
              "      <td>1</td>\n",
              "      <td>0</td>\n",
              "      <td>0</td>\n",
              "      <td>0</td>\n",
              "      <td>1</td>\n",
              "      <td>0</td>\n",
              "      <td>0</td>\n",
              "      <td>1</td>\n",
              "      <td>0</td>\n",
              "    </tr>\n",
              "  </tbody>\n",
              "</table>\n",
              "<p>5 rows × 47 columns</p>\n",
              "</div>\n",
              "      <button class=\"colab-df-convert\" onclick=\"convertToInteractive('df-9feb5a91-3636-468e-95b8-eb0fc787ead5')\"\n",
              "              title=\"Convert this dataframe to an interactive table.\"\n",
              "              style=\"display:none;\">\n",
              "        \n",
              "  <svg xmlns=\"http://www.w3.org/2000/svg\" height=\"24px\"viewBox=\"0 0 24 24\"\n",
              "       width=\"24px\">\n",
              "    <path d=\"M0 0h24v24H0V0z\" fill=\"none\"/>\n",
              "    <path d=\"M18.56 5.44l.94 2.06.94-2.06 2.06-.94-2.06-.94-.94-2.06-.94 2.06-2.06.94zm-11 1L8.5 8.5l.94-2.06 2.06-.94-2.06-.94L8.5 2.5l-.94 2.06-2.06.94zm10 10l.94 2.06.94-2.06 2.06-.94-2.06-.94-.94-2.06-.94 2.06-2.06.94z\"/><path d=\"M17.41 7.96l-1.37-1.37c-.4-.4-.92-.59-1.43-.59-.52 0-1.04.2-1.43.59L10.3 9.45l-7.72 7.72c-.78.78-.78 2.05 0 2.83L4 21.41c.39.39.9.59 1.41.59.51 0 1.02-.2 1.41-.59l7.78-7.78 2.81-2.81c.8-.78.8-2.07 0-2.86zM5.41 20L4 18.59l7.72-7.72 1.47 1.35L5.41 20z\"/>\n",
              "  </svg>\n",
              "      </button>\n",
              "      \n",
              "  <style>\n",
              "    .colab-df-container {\n",
              "      display:flex;\n",
              "      flex-wrap:wrap;\n",
              "      gap: 12px;\n",
              "    }\n",
              "\n",
              "    .colab-df-convert {\n",
              "      background-color: #E8F0FE;\n",
              "      border: none;\n",
              "      border-radius: 50%;\n",
              "      cursor: pointer;\n",
              "      display: none;\n",
              "      fill: #1967D2;\n",
              "      height: 32px;\n",
              "      padding: 0 0 0 0;\n",
              "      width: 32px;\n",
              "    }\n",
              "\n",
              "    .colab-df-convert:hover {\n",
              "      background-color: #E2EBFA;\n",
              "      box-shadow: 0px 1px 2px rgba(60, 64, 67, 0.3), 0px 1px 3px 1px rgba(60, 64, 67, 0.15);\n",
              "      fill: #174EA6;\n",
              "    }\n",
              "\n",
              "    [theme=dark] .colab-df-convert {\n",
              "      background-color: #3B4455;\n",
              "      fill: #D2E3FC;\n",
              "    }\n",
              "\n",
              "    [theme=dark] .colab-df-convert:hover {\n",
              "      background-color: #434B5C;\n",
              "      box-shadow: 0px 1px 3px 1px rgba(0, 0, 0, 0.15);\n",
              "      filter: drop-shadow(0px 1px 2px rgba(0, 0, 0, 0.3));\n",
              "      fill: #FFFFFF;\n",
              "    }\n",
              "  </style>\n",
              "\n",
              "      <script>\n",
              "        const buttonEl =\n",
              "          document.querySelector('#df-9feb5a91-3636-468e-95b8-eb0fc787ead5 button.colab-df-convert');\n",
              "        buttonEl.style.display =\n",
              "          google.colab.kernel.accessAllowed ? 'block' : 'none';\n",
              "\n",
              "        async function convertToInteractive(key) {\n",
              "          const element = document.querySelector('#df-9feb5a91-3636-468e-95b8-eb0fc787ead5');\n",
              "          const dataTable =\n",
              "            await google.colab.kernel.invokeFunction('convertToInteractive',\n",
              "                                                     [key], {});\n",
              "          if (!dataTable) return;\n",
              "\n",
              "          const docLinkHtml = 'Like what you see? Visit the ' +\n",
              "            '<a target=\"_blank\" href=https://colab.research.google.com/notebooks/data_table.ipynb>data table notebook</a>'\n",
              "            + ' to learn more about interactive tables.';\n",
              "          element.innerHTML = '';\n",
              "          dataTable['output_type'] = 'display_data';\n",
              "          await google.colab.output.renderOutput(dataTable, element);\n",
              "          const docLink = document.createElement('div');\n",
              "          docLink.innerHTML = docLinkHtml;\n",
              "          element.appendChild(docLink);\n",
              "        }\n",
              "      </script>\n",
              "    </div>\n",
              "  </div>\n",
              "  "
            ]
          },
          "metadata": {},
          "execution_count": 60
        }
      ]
    },
    {
      "cell_type": "code",
      "execution_count": null,
      "id": "c2ce1a86",
      "metadata": {
        "colab": {
          "base_uri": "https://localhost:8080/"
        },
        "id": "c2ce1a86",
        "outputId": "50465623-add8-441b-8334-6d02ba32c32c"
      },
      "outputs": [
        {
          "output_type": "stream",
          "name": "stdout",
          "text": [
            "<class 'pandas.core.frame.DataFrame'>\n",
            "RangeIndex: 7043 entries, 0 to 7042\n",
            "Data columns (total 47 columns):\n",
            " #   Column                                   Non-Null Count  Dtype  \n",
            "---  ------                                   --------------  -----  \n",
            " 0   tenure                                   7043 non-null   int64  \n",
            " 1   MonthlyCharges                           7043 non-null   float64\n",
            " 2   TotalCharges                             7043 non-null   float64\n",
            " 3   Churn                                    7043 non-null   int64  \n",
            " 4   gender_Female                            7043 non-null   uint8  \n",
            " 5   gender_Male                              7043 non-null   uint8  \n",
            " 6   SeniorCitizen_No                         7043 non-null   uint8  \n",
            " 7   SeniorCitizen_Yes                        7043 non-null   uint8  \n",
            " 8   Partner_No                               7043 non-null   uint8  \n",
            " 9   Partner_Yes                              7043 non-null   uint8  \n",
            " 10  Dependents_No                            7043 non-null   uint8  \n",
            " 11  Dependents_Yes                           7043 non-null   uint8  \n",
            " 12  PhoneService_No                          7043 non-null   uint8  \n",
            " 13  PhoneService_Yes                         7043 non-null   uint8  \n",
            " 14  MultipleLines_No                         7043 non-null   uint8  \n",
            " 15  MultipleLines_No phone service           7043 non-null   uint8  \n",
            " 16  MultipleLines_Yes                        7043 non-null   uint8  \n",
            " 17  InternetService_DSL                      7043 non-null   uint8  \n",
            " 18  InternetService_Fiber optic              7043 non-null   uint8  \n",
            " 19  InternetService_No                       7043 non-null   uint8  \n",
            " 20  OnlineSecurity_No                        7043 non-null   uint8  \n",
            " 21  OnlineSecurity_No internet service       7043 non-null   uint8  \n",
            " 22  OnlineSecurity_Yes                       7043 non-null   uint8  \n",
            " 23  OnlineBackup_No                          7043 non-null   uint8  \n",
            " 24  OnlineBackup_No internet service         7043 non-null   uint8  \n",
            " 25  OnlineBackup_Yes                         7043 non-null   uint8  \n",
            " 26  DeviceProtection_No                      7043 non-null   uint8  \n",
            " 27  DeviceProtection_No internet service     7043 non-null   uint8  \n",
            " 28  DeviceProtection_Yes                     7043 non-null   uint8  \n",
            " 29  TechSupport_No                           7043 non-null   uint8  \n",
            " 30  TechSupport_No internet service          7043 non-null   uint8  \n",
            " 31  TechSupport_Yes                          7043 non-null   uint8  \n",
            " 32  StreamingTV_No                           7043 non-null   uint8  \n",
            " 33  StreamingTV_No internet service          7043 non-null   uint8  \n",
            " 34  StreamingTV_Yes                          7043 non-null   uint8  \n",
            " 35  StreamingMovies_No                       7043 non-null   uint8  \n",
            " 36  StreamingMovies_No internet service      7043 non-null   uint8  \n",
            " 37  StreamingMovies_Yes                      7043 non-null   uint8  \n",
            " 38  Contract_Month-to-month                  7043 non-null   uint8  \n",
            " 39  Contract_One year                        7043 non-null   uint8  \n",
            " 40  Contract_Two year                        7043 non-null   uint8  \n",
            " 41  PaperlessBilling_No                      7043 non-null   uint8  \n",
            " 42  PaperlessBilling_Yes                     7043 non-null   uint8  \n",
            " 43  PaymentMethod_Bank transfer (automatic)  7043 non-null   uint8  \n",
            " 44  PaymentMethod_Credit card (automatic)    7043 non-null   uint8  \n",
            " 45  PaymentMethod_Electronic check           7043 non-null   uint8  \n",
            " 46  PaymentMethod_Mailed check               7043 non-null   uint8  \n",
            "dtypes: float64(2), int64(2), uint8(43)\n",
            "memory usage: 516.0 KB\n"
          ]
        }
      ],
      "source": [
        "df.info()"
      ]
    },
    {
      "cell_type": "markdown",
      "source": [
        "split data\n",
        "normalise data\n",
        "build model\n",
        "\n"
      ],
      "metadata": {
        "id": "GuRSAxZB4uwy"
      },
      "id": "GuRSAxZB4uwy"
    },
    {
      "cell_type": "markdown",
      "source": [
        "## Data Split"
      ],
      "metadata": {
        "id": "eB3FsLp87Gz-"
      },
      "id": "eB3FsLp87Gz-"
    },
    {
      "cell_type": "code",
      "source": [
        "X_data = df.drop(['Churn'], axis=1)\n",
        "y_data = df['Churn']"
      ],
      "metadata": {
        "id": "8cAvIjhx4eZ_"
      },
      "id": "8cAvIjhx4eZ_",
      "execution_count": null,
      "outputs": []
    },
    {
      "cell_type": "code",
      "source": [
        "X_train, X_test, y_train, y_test = train_test_split(X_data, y_data, test_size=0.3, random_state=42, shuffle=True)"
      ],
      "metadata": {
        "id": "HA8folnS5iq1"
      },
      "id": "HA8folnS5iq1",
      "execution_count": null,
      "outputs": []
    },
    {
      "cell_type": "markdown",
      "source": [
        "## Normalization"
      ],
      "metadata": {
        "id": "55ScbT_g7OfB"
      },
      "id": "55ScbT_g7OfB"
    },
    {
      "cell_type": "code",
      "source": [
        "normalize = MinMaxScaler()\n",
        "X_train_norm = normalize.fit_transform(X_train)\n",
        "X_test_norm = normalize.transform(X_test)"
      ],
      "metadata": {
        "id": "MKvHGpIg7Mhf"
      },
      "id": "MKvHGpIg7Mhf",
      "execution_count": null,
      "outputs": []
    },
    {
      "cell_type": "markdown",
      "source": [
        "## ANN Model 1"
      ],
      "metadata": {
        "id": "uCroVthy8Q2x"
      },
      "id": "uCroVthy8Q2x"
    },
    {
      "cell_type": "code",
      "source": [
        "X_train_norm.shape[1]"
      ],
      "metadata": {
        "colab": {
          "base_uri": "https://localhost:8080/"
        },
        "id": "LkdDGTruFddH",
        "outputId": "94e790da-13a4-498b-eb7d-38d809b583fe"
      },
      "id": "LkdDGTruFddH",
      "execution_count": null,
      "outputs": [
        {
          "output_type": "execute_result",
          "data": {
            "text/plain": [
              "46"
            ]
          },
          "metadata": {},
          "execution_count": 74
        }
      ]
    },
    {
      "cell_type": "code",
      "source": [
        "#Create model\n",
        "#Create Layers \n",
        "#compile model\n",
        "#Run History\n",
        "#Model summary\n",
        "#test model accuracy\n",
        "#Plot accuracy and converging graph\n",
        "\n",
        "#Create model \n",
        "model_1 = Sequential()\n",
        "model_1.add(Dense(units=12, input_shape=(X_train_norm.shape[1],), activation='relu'))\n",
        "model_1.add(Dense(6, activation='relu'))\n",
        "model_1.add(Dense(1, activation='sigmoid'))"
      ],
      "metadata": {
        "id": "xPavx7Rt8LuC"
      },
      "id": "xPavx7Rt8LuC",
      "execution_count": null,
      "outputs": []
    },
    {
      "cell_type": "code",
      "source": [
        "## model summary\n",
        "model_1.summary()"
      ],
      "metadata": {
        "colab": {
          "base_uri": "https://localhost:8080/"
        },
        "id": "smbENVUaLPsb",
        "outputId": "5bf422cc-1a87-4359-901c-3b1b3ea41730"
      },
      "id": "smbENVUaLPsb",
      "execution_count": null,
      "outputs": [
        {
          "output_type": "stream",
          "name": "stdout",
          "text": [
            "Model: \"sequential_2\"\n",
            "_________________________________________________________________\n",
            " Layer (type)                Output Shape              Param #   \n",
            "=================================================================\n",
            " dense_5 (Dense)             (None, 12)                564       \n",
            "                                                                 \n",
            " dense_6 (Dense)             (None, 6)                 78        \n",
            "                                                                 \n",
            " dense_7 (Dense)             (None, 1)                 7         \n",
            "                                                                 \n",
            "=================================================================\n",
            "Total params: 649\n",
            "Trainable params: 649\n",
            "Non-trainable params: 0\n",
            "_________________________________________________________________\n"
          ]
        }
      ]
    },
    {
      "cell_type": "code",
      "source": [
        "#Model Compilation\n",
        "model_1.compile(Adam(lr=.003), 'binary_crossentropy', metrics=['accuracy'])\n",
        "history_1 = model_1.fit(X_train_norm, y_train, validation_data=(X_test_norm,y_test), epochs=15, batch_size=15)"
      ],
      "metadata": {
        "colab": {
          "base_uri": "https://localhost:8080/"
        },
        "id": "buqDNmJ9JZHg",
        "outputId": "083db592-5b36-4ebd-d3e7-537d0a07fdf9"
      },
      "id": "buqDNmJ9JZHg",
      "execution_count": null,
      "outputs": [
        {
          "output_type": "stream",
          "name": "stdout",
          "text": [
            "Epoch 1/15\n"
          ]
        },
        {
          "output_type": "stream",
          "name": "stderr",
          "text": [
            "/usr/local/lib/python3.7/dist-packages/keras/optimizer_v2/adam.py:105: UserWarning: The `lr` argument is deprecated, use `learning_rate` instead.\n",
            "  super(Adam, self).__init__(name, **kwargs)\n"
          ]
        },
        {
          "output_type": "stream",
          "name": "stdout",
          "text": [
            "329/329 [==============================] - 1s 3ms/step - loss: 0.4965 - accuracy: 0.7564 - val_loss: 0.4225 - val_accuracy: 0.7989\n",
            "Epoch 2/15\n",
            "329/329 [==============================] - 1s 3ms/step - loss: 0.4330 - accuracy: 0.7933 - val_loss: 0.4141 - val_accuracy: 0.8022\n",
            "Epoch 3/15\n",
            "329/329 [==============================] - 1s 2ms/step - loss: 0.4281 - accuracy: 0.8014 - val_loss: 0.4155 - val_accuracy: 0.8055\n",
            "Epoch 4/15\n",
            "329/329 [==============================] - 1s 2ms/step - loss: 0.4266 - accuracy: 0.7986 - val_loss: 0.4177 - val_accuracy: 0.8083\n",
            "Epoch 5/15\n",
            "329/329 [==============================] - 1s 3ms/step - loss: 0.4230 - accuracy: 0.8016 - val_loss: 0.4105 - val_accuracy: 0.8060\n",
            "Epoch 6/15\n",
            "329/329 [==============================] - 1s 2ms/step - loss: 0.4222 - accuracy: 0.8034 - val_loss: 0.4222 - val_accuracy: 0.7941\n",
            "Epoch 7/15\n",
            "329/329 [==============================] - 1s 2ms/step - loss: 0.4202 - accuracy: 0.8020 - val_loss: 0.4111 - val_accuracy: 0.8074\n",
            "Epoch 8/15\n",
            "329/329 [==============================] - 1s 2ms/step - loss: 0.4186 - accuracy: 0.8037 - val_loss: 0.4158 - val_accuracy: 0.7993\n",
            "Epoch 9/15\n",
            "329/329 [==============================] - 1s 2ms/step - loss: 0.4159 - accuracy: 0.8051 - val_loss: 0.4217 - val_accuracy: 0.7984\n",
            "Epoch 10/15\n",
            "329/329 [==============================] - 1s 2ms/step - loss: 0.4174 - accuracy: 0.8022 - val_loss: 0.4190 - val_accuracy: 0.8036\n",
            "Epoch 11/15\n",
            "329/329 [==============================] - 1s 2ms/step - loss: 0.4132 - accuracy: 0.8059 - val_loss: 0.4148 - val_accuracy: 0.8050\n",
            "Epoch 12/15\n",
            "329/329 [==============================] - 1s 2ms/step - loss: 0.4121 - accuracy: 0.8065 - val_loss: 0.4173 - val_accuracy: 0.8022\n",
            "Epoch 13/15\n",
            "329/329 [==============================] - 1s 2ms/step - loss: 0.4106 - accuracy: 0.8085 - val_loss: 0.4182 - val_accuracy: 0.8012\n",
            "Epoch 14/15\n",
            "329/329 [==============================] - 1s 2ms/step - loss: 0.4101 - accuracy: 0.8024 - val_loss: 0.4181 - val_accuracy: 0.7970\n",
            "Epoch 15/15\n",
            "329/329 [==============================] - 1s 2ms/step - loss: 0.4081 - accuracy: 0.8099 - val_loss: 0.4153 - val_accuracy: 0.8055\n"
          ]
        }
      ]
    },
    {
      "cell_type": "code",
      "source": [
        "history_1.history.keys()"
      ],
      "metadata": {
        "colab": {
          "base_uri": "https://localhost:8080/"
        },
        "id": "S73LHaoZOSpT",
        "outputId": "e0ddb2aa-509a-4381-e622-afd2e4dea26e"
      },
      "id": "S73LHaoZOSpT",
      "execution_count": null,
      "outputs": [
        {
          "output_type": "execute_result",
          "data": {
            "text/plain": [
              "dict_keys(['loss', 'accuracy', 'val_loss', 'val_accuracy'])"
            ]
          },
          "metadata": {},
          "execution_count": 93
        }
      ]
    },
    {
      "cell_type": "code",
      "source": [
        "plt.plot(history_1.history['accuracy']) \n",
        "plt.plot(history_1.history['val_accuracy']) \n",
        "plt.title('model accuracy') \n",
        "plt.ylabel('accuracy')\n",
        "plt.xlabel('epochs')\n",
        "plt.legend(['train', 'test'], loc='upper left') \n",
        "plt.show()"
      ],
      "metadata": {
        "colab": {
          "base_uri": "https://localhost:8080/",
          "height": 301
        },
        "id": "6vLSDDIbNRZD",
        "outputId": "f7bad7a3-335b-4539-d034-d9d6fd9a304c"
      },
      "id": "6vLSDDIbNRZD",
      "execution_count": null,
      "outputs": [
        {
          "output_type": "display_data",
          "data": {
            "text/plain": [
              "<Figure size 432x288 with 1 Axes>"
            ],
            "image/png": "[encoded data removed]"
          },
          "metadata": {}
        }
      ]
    },
    {
      "cell_type": "markdown",
      "source": [
        "## Model 2:"
      ],
      "metadata": {
        "id": "wcZdgBpCXyhX"
      },
      "id": "wcZdgBpCXyhX"
    },
    {
      "cell_type": "code",
      "source": [
        "#Create model\n",
        "#Create Layers \n",
        "#compile model\n",
        "#Run History\n",
        "#Model summary\n",
        "#test model accuracy\n",
        "#Plot accuracy and converging graph\n",
        "\n",
        "#Create model \n",
        "model_2 = Sequential()\n",
        "model_2.add(Dense(units=16, input_shape=(X_train_norm.shape[1],), activation='relu'))\n",
        "model_2.add(Dense(16, activation='relu'))\n",
        "model_2.add(Dense(1, activation='sigmoid'))"
      ],
      "metadata": {
        "id": "yt0aXCwmPE32"
      },
      "execution_count": null,
      "outputs": [],
      "id": "yt0aXCwmPE32"
    },
    {
      "cell_type": "code",
      "source": [
        "## model summary\n",
        "model_2.summary()"
      ],
      "metadata": {
        "colab": {
          "base_uri": "https://localhost:8080/"
        },
        "id": "qKCeaNphMjPT",
        "outputId": "5cb617a7-850d-4445-da00-b92722be1fe9"
      },
      "id": "qKCeaNphMjPT",
      "execution_count": null,
      "outputs": [
        {
          "output_type": "stream",
          "name": "stdout",
          "text": [
            "Model: \"sequential_5\"\n",
            "_________________________________________________________________\n",
            " Layer (type)                Output Shape              Param #   \n",
            "=================================================================\n",
            " dense_14 (Dense)            (None, 16)                752       \n",
            "                                                                 \n",
            " dense_15 (Dense)            (None, 16)                272       \n",
            "                                                                 \n",
            " dense_16 (Dense)            (None, 1)                 17        \n",
            "                                                                 \n",
            "=================================================================\n",
            "Total params: 1,041\n",
            "Trainable params: 1,041\n",
            "Non-trainable params: 0\n",
            "_________________________________________________________________\n"
          ]
        }
      ]
    },
    {
      "cell_type": "code",
      "source": [
        "model_2.compile(SGD(lr = .003), \"binary_crossentropy\", metrics=[\"accuracy\"])\n",
        "run_hist_2 = model_2.fit(X_train_norm, y_train, validation_data=(X_test_norm, y_test), epochs=200)"
      ],
      "metadata": {
        "colab": {
          "base_uri": "https://localhost:8080/"
        },
        "id": "-l-7pPmnPkk_",
        "outputId": "275b47f7-0755-4669-b3ad-b75d96e6bca9"
      },
      "id": "-l-7pPmnPkk_",
      "execution_count": null,
      "outputs": [
        {
          "output_type": "stream",
          "name": "stdout",
          "text": [
            "Epoch 1/200\n"
          ]
        },
        {
          "output_type": "stream",
          "name": "stderr",
          "text": [
            "/usr/local/lib/python3.7/dist-packages/keras/optimizer_v2/gradient_descent.py:102: UserWarning: The `lr` argument is deprecated, use `learning_rate` instead.\n",
            "  super(SGD, self).__init__(name, **kwargs)\n"
          ]
        },
        {
          "output_type": "stream",
          "name": "stdout",
          "text": [
            "155/155 [==============================] - 1s 3ms/step - loss: 0.7160 - accuracy: 0.4375 - val_loss: 0.6689 - val_accuracy: 0.6010\n",
            "Epoch 2/200\n",
            "155/155 [==============================] - 0s 3ms/step - loss: 0.6369 - accuracy: 0.6935 - val_loss: 0.6154 - val_accuracy: 0.7246\n",
            "Epoch 3/200\n",
            "155/155 [==============================] - 0s 3ms/step - loss: 0.5956 - accuracy: 0.7363 - val_loss: 0.5848 - val_accuracy: 0.7283\n",
            "Epoch 4/200\n",
            "155/155 [==============================] - 0s 2ms/step - loss: 0.5696 - accuracy: 0.7373 - val_loss: 0.5639 - val_accuracy: 0.7283\n",
            "Epoch 5/200\n",
            "155/155 [==============================] - 0s 2ms/step - loss: 0.5509 - accuracy: 0.7371 - val_loss: 0.5464 - val_accuracy: 0.7283\n",
            "Epoch 6/200\n",
            "155/155 [==============================] - 0s 3ms/step - loss: 0.5348 - accuracy: 0.7371 - val_loss: 0.5306 - val_accuracy: 0.7283\n",
            "Epoch 7/200\n",
            "155/155 [==============================] - 0s 3ms/step - loss: 0.5200 - accuracy: 0.7373 - val_loss: 0.5154 - val_accuracy: 0.7288\n",
            "Epoch 8/200\n",
            "155/155 [==============================] - 0s 3ms/step - loss: 0.5060 - accuracy: 0.7381 - val_loss: 0.5008 - val_accuracy: 0.7345\n",
            "Epoch 9/200\n",
            "155/155 [==============================] - 0s 2ms/step - loss: 0.4932 - accuracy: 0.7430 - val_loss: 0.4882 - val_accuracy: 0.7454\n",
            "Epoch 10/200\n",
            "155/155 [==============================] - 0s 2ms/step - loss: 0.4823 - accuracy: 0.7493 - val_loss: 0.4774 - val_accuracy: 0.7515\n",
            "Epoch 11/200\n",
            "155/155 [==============================] - 0s 2ms/step - loss: 0.4733 - accuracy: 0.7617 - val_loss: 0.4685 - val_accuracy: 0.7553\n",
            "Epoch 12/200\n",
            "155/155 [==============================] - 0s 2ms/step - loss: 0.4661 - accuracy: 0.7714 - val_loss: 0.4614 - val_accuracy: 0.7667\n",
            "Epoch 13/200\n",
            "155/155 [==============================] - 0s 2ms/step - loss: 0.4604 - accuracy: 0.7763 - val_loss: 0.4555 - val_accuracy: 0.7705\n",
            "Epoch 14/200\n",
            "155/155 [==============================] - 0s 3ms/step - loss: 0.4558 - accuracy: 0.7836 - val_loss: 0.4510 - val_accuracy: 0.7705\n",
            "Epoch 15/200\n",
            "155/155 [==============================] - 0s 2ms/step - loss: 0.4523 - accuracy: 0.7844 - val_loss: 0.4472 - val_accuracy: 0.7766\n",
            "Epoch 16/200\n",
            "155/155 [==============================] - 0s 3ms/step - loss: 0.4495 - accuracy: 0.7882 - val_loss: 0.4444 - val_accuracy: 0.7761\n",
            "Epoch 17/200\n",
            "155/155 [==============================] - 0s 2ms/step - loss: 0.4473 - accuracy: 0.7911 - val_loss: 0.4423 - val_accuracy: 0.7785\n",
            "Epoch 18/200\n",
            "155/155 [==============================] - 0s 2ms/step - loss: 0.4456 - accuracy: 0.7915 - val_loss: 0.4401 - val_accuracy: 0.7828\n",
            "Epoch 19/200\n",
            "155/155 [==============================] - 0s 2ms/step - loss: 0.4441 - accuracy: 0.7903 - val_loss: 0.4386 - val_accuracy: 0.7832\n",
            "Epoch 20/200\n",
            "155/155 [==============================] - 0s 2ms/step - loss: 0.4427 - accuracy: 0.7915 - val_loss: 0.4374 - val_accuracy: 0.7856\n",
            "Epoch 21/200\n",
            "155/155 [==============================] - 0s 2ms/step - loss: 0.4418 - accuracy: 0.7923 - val_loss: 0.4362 - val_accuracy: 0.7823\n",
            "Epoch 22/200\n",
            "155/155 [==============================] - 0s 2ms/step - loss: 0.4408 - accuracy: 0.7941 - val_loss: 0.4354 - val_accuracy: 0.7828\n",
            "Epoch 23/200\n",
            "155/155 [==============================] - 0s 2ms/step - loss: 0.4400 - accuracy: 0.7941 - val_loss: 0.4346 - val_accuracy: 0.7837\n",
            "Epoch 24/200\n",
            "155/155 [==============================] - 0s 2ms/step - loss: 0.4392 - accuracy: 0.7949 - val_loss: 0.4337 - val_accuracy: 0.7832\n",
            "Epoch 25/200\n",
            "155/155 [==============================] - 0s 2ms/step - loss: 0.4384 - accuracy: 0.7947 - val_loss: 0.4332 - val_accuracy: 0.7832\n",
            "Epoch 26/200\n",
            "155/155 [==============================] - 0s 2ms/step - loss: 0.4378 - accuracy: 0.7957 - val_loss: 0.4323 - val_accuracy: 0.7814\n",
            "Epoch 27/200\n",
            "155/155 [==============================] - 0s 2ms/step - loss: 0.4372 - accuracy: 0.7945 - val_loss: 0.4315 - val_accuracy: 0.7823\n",
            "Epoch 28/200\n",
            "155/155 [==============================] - 0s 2ms/step - loss: 0.4365 - accuracy: 0.7959 - val_loss: 0.4308 - val_accuracy: 0.7851\n",
            "Epoch 29/200\n",
            "155/155 [==============================] - 0s 3ms/step - loss: 0.4359 - accuracy: 0.7951 - val_loss: 0.4302 - val_accuracy: 0.7842\n",
            "Epoch 30/200\n",
            "155/155 [==============================] - 0s 3ms/step - loss: 0.4354 - accuracy: 0.7968 - val_loss: 0.4297 - val_accuracy: 0.7880\n",
            "Epoch 31/200\n",
            "155/155 [==============================] - 0s 2ms/step - loss: 0.4349 - accuracy: 0.7961 - val_loss: 0.4293 - val_accuracy: 0.7875\n",
            "Epoch 32/200\n",
            "155/155 [==============================] - 0s 2ms/step - loss: 0.4344 - accuracy: 0.7951 - val_loss: 0.4290 - val_accuracy: 0.7832\n",
            "Epoch 33/200\n",
            "155/155 [==============================] - 0s 2ms/step - loss: 0.4340 - accuracy: 0.7957 - val_loss: 0.4283 - val_accuracy: 0.7861\n",
            "Epoch 34/200\n",
            "155/155 [==============================] - 0s 2ms/step - loss: 0.4333 - accuracy: 0.7968 - val_loss: 0.4282 - val_accuracy: 0.7875\n",
            "Epoch 35/200\n",
            "155/155 [==============================] - 0s 3ms/step - loss: 0.4330 - accuracy: 0.7978 - val_loss: 0.4274 - val_accuracy: 0.7870\n",
            "Epoch 36/200\n",
            "155/155 [==============================] - 1s 3ms/step - loss: 0.4325 - accuracy: 0.7970 - val_loss: 0.4269 - val_accuracy: 0.7880\n",
            "Epoch 37/200\n",
            "155/155 [==============================] - 1s 3ms/step - loss: 0.4321 - accuracy: 0.7959 - val_loss: 0.4266 - val_accuracy: 0.7894\n",
            "Epoch 38/200\n",
            "155/155 [==============================] - 0s 3ms/step - loss: 0.4317 - accuracy: 0.7980 - val_loss: 0.4261 - val_accuracy: 0.7880\n",
            "Epoch 39/200\n",
            "155/155 [==============================] - 0s 3ms/step - loss: 0.4312 - accuracy: 0.7974 - val_loss: 0.4257 - val_accuracy: 0.7894\n",
            "Epoch 40/200\n",
            "155/155 [==============================] - 1s 3ms/step - loss: 0.4309 - accuracy: 0.7966 - val_loss: 0.4253 - val_accuracy: 0.7885\n",
            "Epoch 41/200\n",
            "155/155 [==============================] - 0s 3ms/step - loss: 0.4305 - accuracy: 0.7984 - val_loss: 0.4250 - val_accuracy: 0.7899\n",
            "Epoch 42/200\n",
            "155/155 [==============================] - 0s 2ms/step - loss: 0.4300 - accuracy: 0.7966 - val_loss: 0.4246 - val_accuracy: 0.7908\n",
            "Epoch 43/200\n",
            "155/155 [==============================] - 0s 2ms/step - loss: 0.4298 - accuracy: 0.7970 - val_loss: 0.4242 - val_accuracy: 0.7899\n",
            "Epoch 44/200\n",
            "155/155 [==============================] - 0s 3ms/step - loss: 0.4294 - accuracy: 0.7968 - val_loss: 0.4239 - val_accuracy: 0.7903\n",
            "Epoch 45/200\n",
            "155/155 [==============================] - 0s 2ms/step - loss: 0.4290 - accuracy: 0.7970 - val_loss: 0.4236 - val_accuracy: 0.7918\n",
            "Epoch 46/200\n",
            "155/155 [==============================] - 0s 2ms/step - loss: 0.4287 - accuracy: 0.7996 - val_loss: 0.4232 - val_accuracy: 0.7918\n",
            "Epoch 47/200\n",
            "155/155 [==============================] - 0s 2ms/step - loss: 0.4284 - accuracy: 0.7984 - val_loss: 0.4230 - val_accuracy: 0.7913\n",
            "Epoch 48/200\n",
            "155/155 [==============================] - 0s 2ms/step - loss: 0.4281 - accuracy: 0.7988 - val_loss: 0.4225 - val_accuracy: 0.7918\n",
            "Epoch 49/200\n",
            "155/155 [==============================] - 0s 2ms/step - loss: 0.4275 - accuracy: 0.7996 - val_loss: 0.4227 - val_accuracy: 0.7927\n",
            "Epoch 50/200\n",
            "155/155 [==============================] - 0s 2ms/step - loss: 0.4275 - accuracy: 0.7986 - val_loss: 0.4219 - val_accuracy: 0.7913\n",
            "Epoch 51/200\n",
            "155/155 [==============================] - 0s 2ms/step - loss: 0.4272 - accuracy: 0.7990 - val_loss: 0.4216 - val_accuracy: 0.7913\n",
            "Epoch 52/200\n",
            "155/155 [==============================] - 0s 3ms/step - loss: 0.4269 - accuracy: 0.7998 - val_loss: 0.4213 - val_accuracy: 0.7932\n",
            "Epoch 53/200\n",
            "155/155 [==============================] - 0s 3ms/step - loss: 0.4267 - accuracy: 0.8006 - val_loss: 0.4209 - val_accuracy: 0.7918\n",
            "Epoch 54/200\n",
            "155/155 [==============================] - 0s 2ms/step - loss: 0.4263 - accuracy: 0.7984 - val_loss: 0.4208 - val_accuracy: 0.7922\n",
            "Epoch 55/200\n",
            "155/155 [==============================] - 0s 2ms/step - loss: 0.4261 - accuracy: 0.7986 - val_loss: 0.4210 - val_accuracy: 0.7970\n",
            "Epoch 56/200\n",
            "155/155 [==============================] - 0s 3ms/step - loss: 0.4258 - accuracy: 0.8004 - val_loss: 0.4202 - val_accuracy: 0.7941\n",
            "Epoch 57/200\n",
            "155/155 [==============================] - 0s 2ms/step - loss: 0.4255 - accuracy: 0.7998 - val_loss: 0.4199 - val_accuracy: 0.7951\n",
            "Epoch 58/200\n",
            "155/155 [==============================] - 0s 2ms/step - loss: 0.4252 - accuracy: 0.7986 - val_loss: 0.4197 - val_accuracy: 0.7932\n",
            "Epoch 59/200\n",
            "155/155 [==============================] - 0s 3ms/step - loss: 0.4250 - accuracy: 0.8020 - val_loss: 0.4194 - val_accuracy: 0.7956\n",
            "Epoch 60/200\n",
            "155/155 [==============================] - 0s 2ms/step - loss: 0.4248 - accuracy: 0.8002 - val_loss: 0.4190 - val_accuracy: 0.7951\n",
            "Epoch 61/200\n",
            "155/155 [==============================] - 0s 3ms/step - loss: 0.4246 - accuracy: 0.8008 - val_loss: 0.4191 - val_accuracy: 0.7941\n",
            "Epoch 62/200\n",
            "155/155 [==============================] - 0s 2ms/step - loss: 0.4243 - accuracy: 0.8020 - val_loss: 0.4187 - val_accuracy: 0.7960\n",
            "Epoch 63/200\n",
            "155/155 [==============================] - 0s 3ms/step - loss: 0.4240 - accuracy: 0.8014 - val_loss: 0.4188 - val_accuracy: 0.7951\n",
            "Epoch 64/200\n",
            "155/155 [==============================] - 0s 2ms/step - loss: 0.4238 - accuracy: 0.8004 - val_loss: 0.4188 - val_accuracy: 0.7989\n",
            "Epoch 65/200\n",
            "155/155 [==============================] - 0s 2ms/step - loss: 0.4237 - accuracy: 0.8014 - val_loss: 0.4181 - val_accuracy: 0.7970\n",
            "Epoch 66/200\n",
            "155/155 [==============================] - 0s 2ms/step - loss: 0.4234 - accuracy: 0.8008 - val_loss: 0.4180 - val_accuracy: 0.7998\n",
            "Epoch 67/200\n",
            "155/155 [==============================] - 0s 2ms/step - loss: 0.4232 - accuracy: 0.8014 - val_loss: 0.4175 - val_accuracy: 0.7965\n",
            "Epoch 68/200\n",
            "155/155 [==============================] - 0s 2ms/step - loss: 0.4230 - accuracy: 0.8014 - val_loss: 0.4173 - val_accuracy: 0.7970\n",
            "Epoch 69/200\n",
            "155/155 [==============================] - 0s 2ms/step - loss: 0.4228 - accuracy: 0.8016 - val_loss: 0.4173 - val_accuracy: 0.7998\n",
            "Epoch 70/200\n",
            "155/155 [==============================] - 0s 2ms/step - loss: 0.4226 - accuracy: 0.8016 - val_loss: 0.4170 - val_accuracy: 0.7989\n",
            "Epoch 71/200\n",
            "155/155 [==============================] - 0s 3ms/step - loss: 0.4222 - accuracy: 0.8028 - val_loss: 0.4167 - val_accuracy: 0.7989\n",
            "Epoch 72/200\n",
            "155/155 [==============================] - 0s 2ms/step - loss: 0.4222 - accuracy: 0.8032 - val_loss: 0.4165 - val_accuracy: 0.7979\n",
            "Epoch 73/200\n",
            "155/155 [==============================] - 0s 2ms/step - loss: 0.4219 - accuracy: 0.8022 - val_loss: 0.4163 - val_accuracy: 0.7993\n",
            "Epoch 74/200\n",
            "155/155 [==============================] - 0s 2ms/step - loss: 0.4219 - accuracy: 0.8024 - val_loss: 0.4162 - val_accuracy: 0.7993\n",
            "Epoch 75/200\n",
            "155/155 [==============================] - 0s 2ms/step - loss: 0.4217 - accuracy: 0.8041 - val_loss: 0.4165 - val_accuracy: 0.7974\n",
            "Epoch 76/200\n",
            "155/155 [==============================] - 0s 2ms/step - loss: 0.4216 - accuracy: 0.8020 - val_loss: 0.4159 - val_accuracy: 0.8003\n",
            "Epoch 77/200\n",
            "155/155 [==============================] - 0s 2ms/step - loss: 0.4214 - accuracy: 0.8041 - val_loss: 0.4159 - val_accuracy: 0.7989\n",
            "Epoch 78/200\n",
            "155/155 [==============================] - 0s 2ms/step - loss: 0.4212 - accuracy: 0.8026 - val_loss: 0.4155 - val_accuracy: 0.7989\n",
            "Epoch 79/200\n",
            "155/155 [==============================] - 0s 3ms/step - loss: 0.4212 - accuracy: 0.8022 - val_loss: 0.4154 - val_accuracy: 0.8008\n",
            "Epoch 80/200\n",
            "155/155 [==============================] - 0s 3ms/step - loss: 0.4210 - accuracy: 0.8030 - val_loss: 0.4153 - val_accuracy: 0.8012\n",
            "Epoch 81/200\n",
            "155/155 [==============================] - 0s 3ms/step - loss: 0.4208 - accuracy: 0.8047 - val_loss: 0.4150 - val_accuracy: 0.8008\n",
            "Epoch 82/200\n",
            "155/155 [==============================] - 0s 3ms/step - loss: 0.4207 - accuracy: 0.8026 - val_loss: 0.4148 - val_accuracy: 0.8031\n",
            "Epoch 83/200\n",
            "155/155 [==============================] - 0s 2ms/step - loss: 0.4206 - accuracy: 0.8032 - val_loss: 0.4147 - val_accuracy: 0.8027\n",
            "Epoch 84/200\n",
            "155/155 [==============================] - 0s 3ms/step - loss: 0.4204 - accuracy: 0.8037 - val_loss: 0.4146 - val_accuracy: 0.7998\n",
            "Epoch 85/200\n",
            "155/155 [==============================] - 0s 3ms/step - loss: 0.4203 - accuracy: 0.8022 - val_loss: 0.4144 - val_accuracy: 0.8017\n",
            "Epoch 86/200\n",
            "155/155 [==============================] - 0s 3ms/step - loss: 0.4201 - accuracy: 0.8049 - val_loss: 0.4142 - val_accuracy: 0.8022\n",
            "Epoch 87/200\n",
            "155/155 [==============================] - 0s 2ms/step - loss: 0.4200 - accuracy: 0.8034 - val_loss: 0.4142 - val_accuracy: 0.7989\n",
            "Epoch 88/200\n",
            "155/155 [==============================] - 0s 2ms/step - loss: 0.4199 - accuracy: 0.8034 - val_loss: 0.4145 - val_accuracy: 0.8050\n",
            "Epoch 89/200\n",
            "155/155 [==============================] - 0s 2ms/step - loss: 0.4198 - accuracy: 0.8024 - val_loss: 0.4139 - val_accuracy: 0.8031\n",
            "Epoch 90/200\n",
            "155/155 [==============================] - 0s 2ms/step - loss: 0.4195 - accuracy: 0.8032 - val_loss: 0.4139 - val_accuracy: 0.8022\n",
            "Epoch 91/200\n",
            "155/155 [==============================] - 0s 2ms/step - loss: 0.4195 - accuracy: 0.8037 - val_loss: 0.4141 - val_accuracy: 0.8031\n",
            "Epoch 92/200\n",
            "155/155 [==============================] - 0s 2ms/step - loss: 0.4193 - accuracy: 0.8030 - val_loss: 0.4142 - val_accuracy: 0.8031\n",
            "Epoch 93/200\n",
            "155/155 [==============================] - 0s 3ms/step - loss: 0.4193 - accuracy: 0.8051 - val_loss: 0.4137 - val_accuracy: 0.8036\n",
            "Epoch 94/200\n",
            "155/155 [==============================] - 0s 2ms/step - loss: 0.4192 - accuracy: 0.8041 - val_loss: 0.4134 - val_accuracy: 0.8036\n",
            "Epoch 95/200\n",
            "155/155 [==============================] - 0s 3ms/step - loss: 0.4190 - accuracy: 0.8039 - val_loss: 0.4135 - val_accuracy: 0.7998\n",
            "Epoch 96/200\n",
            "155/155 [==============================] - 0s 2ms/step - loss: 0.4190 - accuracy: 0.8028 - val_loss: 0.4131 - val_accuracy: 0.8012\n",
            "Epoch 97/200\n",
            "155/155 [==============================] - 0s 2ms/step - loss: 0.4188 - accuracy: 0.8041 - val_loss: 0.4131 - val_accuracy: 0.8022\n",
            "Epoch 98/200\n",
            "155/155 [==============================] - 0s 3ms/step - loss: 0.4186 - accuracy: 0.8037 - val_loss: 0.4133 - val_accuracy: 0.8045\n",
            "Epoch 99/200\n",
            "155/155 [==============================] - 0s 2ms/step - loss: 0.4185 - accuracy: 0.8049 - val_loss: 0.4135 - val_accuracy: 0.7998\n",
            "Epoch 100/200\n",
            "155/155 [==============================] - 0s 2ms/step - loss: 0.4186 - accuracy: 0.8041 - val_loss: 0.4132 - val_accuracy: 0.8031\n",
            "Epoch 101/200\n",
            "155/155 [==============================] - 0s 2ms/step - loss: 0.4183 - accuracy: 0.8037 - val_loss: 0.4132 - val_accuracy: 0.8041\n",
            "Epoch 102/200\n",
            "155/155 [==============================] - 0s 3ms/step - loss: 0.4182 - accuracy: 0.8041 - val_loss: 0.4132 - val_accuracy: 0.8008\n",
            "Epoch 103/200\n",
            "155/155 [==============================] - 0s 2ms/step - loss: 0.4183 - accuracy: 0.8051 - val_loss: 0.4129 - val_accuracy: 0.8055\n",
            "Epoch 104/200\n",
            "155/155 [==============================] - 0s 2ms/step - loss: 0.4180 - accuracy: 0.8039 - val_loss: 0.4132 - val_accuracy: 0.8041\n",
            "Epoch 105/200\n",
            "155/155 [==============================] - 0s 2ms/step - loss: 0.4180 - accuracy: 0.8047 - val_loss: 0.4129 - val_accuracy: 0.8060\n",
            "Epoch 106/200\n",
            "155/155 [==============================] - 0s 3ms/step - loss: 0.4178 - accuracy: 0.8039 - val_loss: 0.4128 - val_accuracy: 0.7998\n",
            "Epoch 107/200\n",
            "155/155 [==============================] - 0s 2ms/step - loss: 0.4177 - accuracy: 0.8022 - val_loss: 0.4128 - val_accuracy: 0.8064\n",
            "Epoch 108/200\n",
            "155/155 [==============================] - 0s 2ms/step - loss: 0.4178 - accuracy: 0.8041 - val_loss: 0.4127 - val_accuracy: 0.8069\n",
            "Epoch 109/200\n",
            "155/155 [==============================] - 0s 2ms/step - loss: 0.4174 - accuracy: 0.8045 - val_loss: 0.4123 - val_accuracy: 0.8022\n",
            "Epoch 110/200\n",
            "155/155 [==============================] - 0s 2ms/step - loss: 0.4174 - accuracy: 0.8039 - val_loss: 0.4123 - val_accuracy: 0.8050\n",
            "Epoch 111/200\n",
            "155/155 [==============================] - 0s 2ms/step - loss: 0.4173 - accuracy: 0.8051 - val_loss: 0.4124 - val_accuracy: 0.8050\n",
            "Epoch 112/200\n",
            "155/155 [==============================] - 0s 3ms/step - loss: 0.4172 - accuracy: 0.8065 - val_loss: 0.4119 - val_accuracy: 0.8041\n",
            "Epoch 113/200\n",
            "155/155 [==============================] - 0s 2ms/step - loss: 0.4171 - accuracy: 0.8059 - val_loss: 0.4121 - val_accuracy: 0.8045\n",
            "Epoch 114/200\n",
            "155/155 [==============================] - 0s 2ms/step - loss: 0.4170 - accuracy: 0.8051 - val_loss: 0.4123 - val_accuracy: 0.8055\n",
            "Epoch 115/200\n",
            "155/155 [==============================] - 0s 3ms/step - loss: 0.4170 - accuracy: 0.8034 - val_loss: 0.4130 - val_accuracy: 0.8027\n",
            "Epoch 116/200\n",
            "155/155 [==============================] - 0s 3ms/step - loss: 0.4171 - accuracy: 0.8034 - val_loss: 0.4119 - val_accuracy: 0.8036\n",
            "Epoch 117/200\n",
            "155/155 [==============================] - 0s 3ms/step - loss: 0.4167 - accuracy: 0.8039 - val_loss: 0.4119 - val_accuracy: 0.8045\n",
            "Epoch 118/200\n",
            "155/155 [==============================] - 0s 3ms/step - loss: 0.4168 - accuracy: 0.8051 - val_loss: 0.4120 - val_accuracy: 0.8041\n",
            "Epoch 119/200\n",
            "155/155 [==============================] - 0s 2ms/step - loss: 0.4167 - accuracy: 0.8051 - val_loss: 0.4119 - val_accuracy: 0.8017\n",
            "Epoch 120/200\n",
            "155/155 [==============================] - 0s 2ms/step - loss: 0.4167 - accuracy: 0.8037 - val_loss: 0.4128 - val_accuracy: 0.8041\n",
            "Epoch 121/200\n",
            "155/155 [==============================] - 0s 3ms/step - loss: 0.4166 - accuracy: 0.8045 - val_loss: 0.4117 - val_accuracy: 0.8045\n",
            "Epoch 122/200\n",
            "155/155 [==============================] - 0s 2ms/step - loss: 0.4163 - accuracy: 0.8043 - val_loss: 0.4132 - val_accuracy: 0.8036\n",
            "Epoch 123/200\n",
            "155/155 [==============================] - 0s 2ms/step - loss: 0.4167 - accuracy: 0.8043 - val_loss: 0.4117 - val_accuracy: 0.8036\n",
            "Epoch 124/200\n",
            "155/155 [==============================] - 0s 2ms/step - loss: 0.4164 - accuracy: 0.8047 - val_loss: 0.4116 - val_accuracy: 0.8036\n",
            "Epoch 125/200\n",
            "155/155 [==============================] - 0s 2ms/step - loss: 0.4163 - accuracy: 0.8039 - val_loss: 0.4116 - val_accuracy: 0.8041\n",
            "Epoch 126/200\n",
            "155/155 [==============================] - 0s 2ms/step - loss: 0.4163 - accuracy: 0.8041 - val_loss: 0.4116 - val_accuracy: 0.8055\n",
            "Epoch 127/200\n",
            "155/155 [==============================] - 0s 2ms/step - loss: 0.4161 - accuracy: 0.8041 - val_loss: 0.4114 - val_accuracy: 0.8055\n",
            "Epoch 128/200\n",
            "155/155 [==============================] - 0s 3ms/step - loss: 0.4160 - accuracy: 0.8053 - val_loss: 0.4114 - val_accuracy: 0.8050\n",
            "Epoch 129/200\n",
            "155/155 [==============================] - 0s 3ms/step - loss: 0.4160 - accuracy: 0.8034 - val_loss: 0.4113 - val_accuracy: 0.8050\n",
            "Epoch 130/200\n",
            "155/155 [==============================] - 0s 2ms/step - loss: 0.4158 - accuracy: 0.8039 - val_loss: 0.4117 - val_accuracy: 0.8050\n",
            "Epoch 131/200\n",
            "155/155 [==============================] - 0s 3ms/step - loss: 0.4157 - accuracy: 0.8049 - val_loss: 0.4113 - val_accuracy: 0.8041\n",
            "Epoch 132/200\n",
            "155/155 [==============================] - 0s 2ms/step - loss: 0.4157 - accuracy: 0.8037 - val_loss: 0.4115 - val_accuracy: 0.8036\n",
            "Epoch 133/200\n",
            "155/155 [==============================] - 0s 2ms/step - loss: 0.4155 - accuracy: 0.8059 - val_loss: 0.4115 - val_accuracy: 0.8041\n",
            "Epoch 134/200\n",
            "155/155 [==============================] - 0s 2ms/step - loss: 0.4156 - accuracy: 0.8043 - val_loss: 0.4125 - val_accuracy: 0.8060\n",
            "Epoch 135/200\n",
            "155/155 [==============================] - 0s 2ms/step - loss: 0.4156 - accuracy: 0.8055 - val_loss: 0.4117 - val_accuracy: 0.8069\n",
            "Epoch 136/200\n",
            "155/155 [==============================] - 0s 3ms/step - loss: 0.4155 - accuracy: 0.8051 - val_loss: 0.4113 - val_accuracy: 0.8036\n",
            "Epoch 137/200\n",
            "155/155 [==============================] - 0s 2ms/step - loss: 0.4153 - accuracy: 0.8022 - val_loss: 0.4110 - val_accuracy: 0.8050\n",
            "Epoch 138/200\n",
            "155/155 [==============================] - 0s 3ms/step - loss: 0.4151 - accuracy: 0.8024 - val_loss: 0.4111 - val_accuracy: 0.8031\n",
            "Epoch 139/200\n",
            "155/155 [==============================] - 0s 2ms/step - loss: 0.4152 - accuracy: 0.8039 - val_loss: 0.4112 - val_accuracy: 0.8050\n",
            "Epoch 140/200\n",
            "155/155 [==============================] - 0s 3ms/step - loss: 0.4151 - accuracy: 0.8034 - val_loss: 0.4115 - val_accuracy: 0.8074\n",
            "Epoch 141/200\n",
            "155/155 [==============================] - 0s 2ms/step - loss: 0.4151 - accuracy: 0.8028 - val_loss: 0.4114 - val_accuracy: 0.8036\n",
            "Epoch 142/200\n",
            "155/155 [==============================] - 0s 3ms/step - loss: 0.4150 - accuracy: 0.8053 - val_loss: 0.4111 - val_accuracy: 0.8050\n",
            "Epoch 143/200\n",
            "155/155 [==============================] - 0s 3ms/step - loss: 0.4148 - accuracy: 0.8057 - val_loss: 0.4110 - val_accuracy: 0.8050\n",
            "Epoch 144/200\n",
            "155/155 [==============================] - 0s 2ms/step - loss: 0.4150 - accuracy: 0.8051 - val_loss: 0.4110 - val_accuracy: 0.8050\n",
            "Epoch 145/200\n",
            "155/155 [==============================] - 0s 3ms/step - loss: 0.4148 - accuracy: 0.8045 - val_loss: 0.4109 - val_accuracy: 0.8041\n",
            "Epoch 146/200\n",
            "155/155 [==============================] - 0s 2ms/step - loss: 0.4148 - accuracy: 0.8037 - val_loss: 0.4111 - val_accuracy: 0.8031\n",
            "Epoch 147/200\n",
            "155/155 [==============================] - 0s 2ms/step - loss: 0.4146 - accuracy: 0.8032 - val_loss: 0.4114 - val_accuracy: 0.8050\n",
            "Epoch 148/200\n",
            "155/155 [==============================] - 0s 2ms/step - loss: 0.4146 - accuracy: 0.8057 - val_loss: 0.4110 - val_accuracy: 0.8041\n",
            "Epoch 149/200\n",
            "155/155 [==============================] - 0s 3ms/step - loss: 0.4144 - accuracy: 0.8057 - val_loss: 0.4114 - val_accuracy: 0.8022\n",
            "Epoch 150/200\n",
            "155/155 [==============================] - 0s 2ms/step - loss: 0.4145 - accuracy: 0.8041 - val_loss: 0.4109 - val_accuracy: 0.8050\n",
            "Epoch 151/200\n",
            "155/155 [==============================] - 0s 2ms/step - loss: 0.4144 - accuracy: 0.8041 - val_loss: 0.4110 - val_accuracy: 0.8050\n",
            "Epoch 152/200\n",
            "155/155 [==============================] - 0s 3ms/step - loss: 0.4145 - accuracy: 0.8039 - val_loss: 0.4111 - val_accuracy: 0.8060\n",
            "Epoch 153/200\n",
            "155/155 [==============================] - 0s 3ms/step - loss: 0.4143 - accuracy: 0.8047 - val_loss: 0.4116 - val_accuracy: 0.8079\n",
            "Epoch 154/200\n",
            "155/155 [==============================] - 0s 3ms/step - loss: 0.4145 - accuracy: 0.8032 - val_loss: 0.4114 - val_accuracy: 0.8064\n",
            "Epoch 155/200\n",
            "155/155 [==============================] - 0s 2ms/step - loss: 0.4142 - accuracy: 0.8043 - val_loss: 0.4111 - val_accuracy: 0.8045\n",
            "Epoch 156/200\n",
            "155/155 [==============================] - 0s 2ms/step - loss: 0.4142 - accuracy: 0.8049 - val_loss: 0.4112 - val_accuracy: 0.8036\n",
            "Epoch 157/200\n",
            "155/155 [==============================] - 0s 2ms/step - loss: 0.4143 - accuracy: 0.8057 - val_loss: 0.4111 - val_accuracy: 0.8031\n",
            "Epoch 158/200\n",
            "155/155 [==============================] - 0s 2ms/step - loss: 0.4142 - accuracy: 0.8061 - val_loss: 0.4110 - val_accuracy: 0.8041\n",
            "Epoch 159/200\n",
            "155/155 [==============================] - 0s 2ms/step - loss: 0.4139 - accuracy: 0.8039 - val_loss: 0.4118 - val_accuracy: 0.8050\n",
            "Epoch 160/200\n",
            "155/155 [==============================] - 0s 2ms/step - loss: 0.4141 - accuracy: 0.8020 - val_loss: 0.4111 - val_accuracy: 0.8064\n",
            "Epoch 161/200\n",
            "155/155 [==============================] - 0s 3ms/step - loss: 0.4140 - accuracy: 0.8049 - val_loss: 0.4111 - val_accuracy: 0.8055\n",
            "Epoch 162/200\n",
            "155/155 [==============================] - 0s 3ms/step - loss: 0.4137 - accuracy: 0.8051 - val_loss: 0.4111 - val_accuracy: 0.8060\n",
            "Epoch 163/200\n",
            "155/155 [==============================] - 0s 2ms/step - loss: 0.4138 - accuracy: 0.8051 - val_loss: 0.4114 - val_accuracy: 0.8064\n",
            "Epoch 164/200\n",
            "155/155 [==============================] - 0s 3ms/step - loss: 0.4138 - accuracy: 0.8049 - val_loss: 0.4109 - val_accuracy: 0.8045\n",
            "Epoch 165/200\n",
            "155/155 [==============================] - 0s 2ms/step - loss: 0.4137 - accuracy: 0.8041 - val_loss: 0.4109 - val_accuracy: 0.8050\n",
            "Epoch 166/200\n",
            "155/155 [==============================] - 0s 3ms/step - loss: 0.4137 - accuracy: 0.8041 - val_loss: 0.4116 - val_accuracy: 0.8060\n",
            "Epoch 167/200\n",
            "155/155 [==============================] - 0s 3ms/step - loss: 0.4136 - accuracy: 0.8041 - val_loss: 0.4115 - val_accuracy: 0.8060\n",
            "Epoch 168/200\n",
            "155/155 [==============================] - 0s 3ms/step - loss: 0.4137 - accuracy: 0.8057 - val_loss: 0.4110 - val_accuracy: 0.8060\n",
            "Epoch 169/200\n",
            "155/155 [==============================] - 0s 3ms/step - loss: 0.4136 - accuracy: 0.8053 - val_loss: 0.4110 - val_accuracy: 0.8055\n",
            "Epoch 170/200\n",
            "155/155 [==============================] - 0s 2ms/step - loss: 0.4133 - accuracy: 0.8039 - val_loss: 0.4115 - val_accuracy: 0.8074\n",
            "Epoch 171/200\n",
            "155/155 [==============================] - 0s 2ms/step - loss: 0.4134 - accuracy: 0.8057 - val_loss: 0.4112 - val_accuracy: 0.8060\n",
            "Epoch 172/200\n",
            "155/155 [==============================] - 0s 2ms/step - loss: 0.4136 - accuracy: 0.8034 - val_loss: 0.4109 - val_accuracy: 0.8064\n",
            "Epoch 173/200\n",
            "155/155 [==============================] - 0s 2ms/step - loss: 0.4134 - accuracy: 0.8034 - val_loss: 0.4109 - val_accuracy: 0.8064\n",
            "Epoch 174/200\n",
            "155/155 [==============================] - 0s 2ms/step - loss: 0.4133 - accuracy: 0.8039 - val_loss: 0.4109 - val_accuracy: 0.8055\n",
            "Epoch 175/200\n",
            "155/155 [==============================] - 0s 3ms/step - loss: 0.4132 - accuracy: 0.8053 - val_loss: 0.4109 - val_accuracy: 0.8050\n",
            "Epoch 176/200\n",
            "155/155 [==============================] - 0s 2ms/step - loss: 0.4131 - accuracy: 0.8037 - val_loss: 0.4109 - val_accuracy: 0.8055\n",
            "Epoch 177/200\n",
            "155/155 [==============================] - 0s 2ms/step - loss: 0.4132 - accuracy: 0.8045 - val_loss: 0.4114 - val_accuracy: 0.8064\n",
            "Epoch 178/200\n",
            "155/155 [==============================] - 0s 2ms/step - loss: 0.4133 - accuracy: 0.8032 - val_loss: 0.4109 - val_accuracy: 0.8064\n",
            "Epoch 179/200\n",
            "155/155 [==============================] - 0s 2ms/step - loss: 0.4129 - accuracy: 0.8047 - val_loss: 0.4108 - val_accuracy: 0.8060\n",
            "Epoch 180/200\n",
            "155/155 [==============================] - 0s 3ms/step - loss: 0.4131 - accuracy: 0.8039 - val_loss: 0.4110 - val_accuracy: 0.8060\n",
            "Epoch 181/200\n",
            "155/155 [==============================] - 0s 2ms/step - loss: 0.4128 - accuracy: 0.8037 - val_loss: 0.4111 - val_accuracy: 0.8064\n",
            "Epoch 182/200\n",
            "155/155 [==============================] - 0s 3ms/step - loss: 0.4129 - accuracy: 0.8055 - val_loss: 0.4110 - val_accuracy: 0.8050\n",
            "Epoch 183/200\n",
            "155/155 [==============================] - 0s 3ms/step - loss: 0.4130 - accuracy: 0.8041 - val_loss: 0.4111 - val_accuracy: 0.8055\n",
            "Epoch 184/200\n",
            "155/155 [==============================] - 0s 3ms/step - loss: 0.4129 - accuracy: 0.8043 - val_loss: 0.4114 - val_accuracy: 0.8060\n",
            "Epoch 185/200\n",
            "155/155 [==============================] - 0s 2ms/step - loss: 0.4128 - accuracy: 0.8055 - val_loss: 0.4109 - val_accuracy: 0.8055\n",
            "Epoch 186/200\n",
            "155/155 [==============================] - 0s 2ms/step - loss: 0.4127 - accuracy: 0.8037 - val_loss: 0.4110 - val_accuracy: 0.8055\n",
            "Epoch 187/200\n",
            "155/155 [==============================] - 0s 3ms/step - loss: 0.4127 - accuracy: 0.8041 - val_loss: 0.4108 - val_accuracy: 0.8055\n",
            "Epoch 188/200\n",
            "155/155 [==============================] - 0s 2ms/step - loss: 0.4126 - accuracy: 0.8028 - val_loss: 0.4119 - val_accuracy: 0.8083\n",
            "Epoch 189/200\n",
            "155/155 [==============================] - 0s 2ms/step - loss: 0.4125 - accuracy: 0.8069 - val_loss: 0.4117 - val_accuracy: 0.8017\n",
            "Epoch 190/200\n",
            "155/155 [==============================] - 0s 3ms/step - loss: 0.4126 - accuracy: 0.8041 - val_loss: 0.4109 - val_accuracy: 0.8069\n",
            "Epoch 191/200\n",
            "155/155 [==============================] - 0s 3ms/step - loss: 0.4125 - accuracy: 0.8045 - val_loss: 0.4111 - val_accuracy: 0.8050\n",
            "Epoch 192/200\n",
            "155/155 [==============================] - 0s 3ms/step - loss: 0.4126 - accuracy: 0.8039 - val_loss: 0.4109 - val_accuracy: 0.8050\n",
            "Epoch 193/200\n",
            "155/155 [==============================] - 0s 2ms/step - loss: 0.4125 - accuracy: 0.8043 - val_loss: 0.4109 - val_accuracy: 0.8055\n",
            "Epoch 194/200\n",
            "155/155 [==============================] - 0s 3ms/step - loss: 0.4123 - accuracy: 0.8043 - val_loss: 0.4110 - val_accuracy: 0.8060\n",
            "Epoch 195/200\n",
            "155/155 [==============================] - 0s 2ms/step - loss: 0.4122 - accuracy: 0.8053 - val_loss: 0.4109 - val_accuracy: 0.8045\n",
            "Epoch 196/200\n",
            "155/155 [==============================] - 0s 2ms/step - loss: 0.4124 - accuracy: 0.8049 - val_loss: 0.4109 - val_accuracy: 0.8055\n",
            "Epoch 197/200\n",
            "155/155 [==============================] - 0s 2ms/step - loss: 0.4122 - accuracy: 0.8043 - val_loss: 0.4111 - val_accuracy: 0.8045\n",
            "Epoch 198/200\n",
            "155/155 [==============================] - 0s 3ms/step - loss: 0.4123 - accuracy: 0.8049 - val_loss: 0.4111 - val_accuracy: 0.8050\n",
            "Epoch 199/200\n",
            "155/155 [==============================] - 0s 2ms/step - loss: 0.4122 - accuracy: 0.8053 - val_loss: 0.4116 - val_accuracy: 0.8036\n",
            "Epoch 200/200\n",
            "155/155 [==============================] - 0s 2ms/step - loss: 0.4122 - accuracy: 0.8043 - val_loss: 0.4111 - val_accuracy: 0.8055\n"
          ]
        }
      ]
    },
    {
      "cell_type": "code",
      "source": [
        "run_hist_2.history.keys()"
      ],
      "metadata": {
        "colab": {
          "base_uri": "https://localhost:8080/"
        },
        "id": "cgP-nZtaWKZc",
        "outputId": "a0d9592f-a8fa-42ab-cacc-9f1bd7df7b0e"
      },
      "id": "cgP-nZtaWKZc",
      "execution_count": null,
      "outputs": [
        {
          "output_type": "execute_result",
          "data": {
            "text/plain": [
              "dict_keys(['loss', 'accuracy', 'val_loss', 'val_accuracy'])"
            ]
          },
          "metadata": {},
          "execution_count": 114
        }
      ]
    },
    {
      "cell_type": "code",
      "source": [
        "## plotting model accuracy\n",
        "plt.plot(run_hist_2.history['accuracy'])\n",
        "plt.plot(run_hist_2.history['val_accuracy'])\n",
        "plt.title('model accuracy') \n",
        "plt.xlabel('epochs')\n",
        "plt.ylabel('accuracy')\n",
        "plt.legend(['train', 'test'], loc='upper left')\n",
        "plt.show"
      ],
      "metadata": {
        "colab": {
          "base_uri": "https://localhost:8080/",
          "height": 318
        },
        "id": "Rt794shoWACo",
        "outputId": "1637e151-3b18-4ed0-aed5-1b4c1227b472"
      },
      "id": "Rt794shoWACo",
      "execution_count": null,
      "outputs": [
        {
          "output_type": "execute_result",
          "data": {
            "text/plain": [
              "<function matplotlib.pyplot.show>"
            ]
          },
          "metadata": {},
          "execution_count": 116
        },
        {
          "output_type": "display_data",
          "data": {
            "text/plain": [
              "<Figure size 432x288 with 1 Axes>"
            ],
            "image/png": "[encoded data removed]"
          },
          "metadata": {}
        }
      ]
    },
    {
      "cell_type": "markdown",
      "source": [
        "the test had a higher accuracy compared to the train score.<br>\n",
        "this implies that the model generalized well to the data."
      ],
      "metadata": {
        "id": "CGusm9fqXd1r"
      },
      "id": "CGusm9fqXd1r"
    },
    {
      "cell_type": "markdown",
      "source": [
        "## Model 3"
      ],
      "metadata": {
        "id": "E-Z-tYWSX26S"
      },
      "id": "E-Z-tYWSX26S"
    },
    {
      "cell_type": "code",
      "source": [
        "# create model\n",
        "import tensorflow as tf\n",
        "\n",
        "model_3 = Sequential()\n",
        "\n",
        "#first layer\n",
        "model_3.add(Dense(12, input_shape=(X_train_norm.shape[1],), activation='relu'))\n",
        "\n",
        "\n",
        "#Second layer\n",
        "model_3.add(Dense(12, activation='relu'))\n",
        "\n",
        "\n",
        "#output\n",
        "model_3.add(Dense(1, activation='sigmoid'))\n",
        "\n",
        "#summary\n",
        "model_3.summary()"
      ],
      "metadata": {
        "colab": {
          "base_uri": "https://localhost:8080/"
        },
        "id": "Kvi7GmLGX9T8",
        "outputId": "e8d70f49-93fd-413a-e617-d1b24aa72a24"
      },
      "id": "Kvi7GmLGX9T8",
      "execution_count": null,
      "outputs": [
        {
          "output_type": "stream",
          "name": "stdout",
          "text": [
            "Model: \"sequential_21\"\n",
            "_________________________________________________________________\n",
            " Layer (type)                Output Shape              Param #   \n",
            "=================================================================\n",
            " dense_38 (Dense)            (None, 12)                564       \n",
            "                                                                 \n",
            " dense_39 (Dense)            (None, 12)                156       \n",
            "                                                                 \n",
            " dense_40 (Dense)            (None, 1)                 13        \n",
            "                                                                 \n",
            "=================================================================\n",
            "Total params: 733\n",
            "Trainable params: 733\n",
            "Non-trainable params: 0\n",
            "_________________________________________________________________\n"
          ]
        }
      ]
    },
    {
      "cell_type": "code",
      "source": [
        "#model compile and history\n",
        "\n",
        "model_3.compile(SGD(lr=.001), loss='binary_crossentropy', metrics=['accuracy'])\n",
        "run_hist_3=model_3.fit(X_train_norm,y_train, validation_data=(X_test_norm,y_test), batch_size=15, epochs=50)"
      ],
      "metadata": {
        "colab": {
          "base_uri": "https://localhost:8080/"
        },
        "id": "9Mtkyq1vbphy",
        "outputId": "541662d7-8ab5-46d0-bd1c-c6811e32ff94"
      },
      "id": "9Mtkyq1vbphy",
      "execution_count": null,
      "outputs": [
        {
          "output_type": "stream",
          "name": "stdout",
          "text": [
            "Epoch 1/20\n",
            "329/329 [==============================] - 1s 3ms/step - loss: 0.4805 - accuracy: 0.7505 - val_loss: 0.4367 - val_accuracy: 0.7932\n",
            "Epoch 2/20\n",
            "329/329 [==============================] - 1s 3ms/step - loss: 0.4356 - accuracy: 0.7872 - val_loss: 0.4217 - val_accuracy: 0.7993\n",
            "Epoch 3/20\n",
            "329/329 [==============================] - 1s 2ms/step - loss: 0.4290 - accuracy: 0.7919 - val_loss: 0.4244 - val_accuracy: 0.7989\n",
            "Epoch 4/20\n",
            "329/329 [==============================] - 1s 2ms/step - loss: 0.4255 - accuracy: 0.7951 - val_loss: 0.4206 - val_accuracy: 0.7993\n",
            "Epoch 5/20\n",
            "329/329 [==============================] - 1s 2ms/step - loss: 0.4225 - accuracy: 0.8004 - val_loss: 0.4183 - val_accuracy: 0.8017\n",
            "Epoch 6/20\n",
            "329/329 [==============================] - 1s 2ms/step - loss: 0.4211 - accuracy: 0.8018 - val_loss: 0.4189 - val_accuracy: 0.7998\n",
            "Epoch 7/20\n",
            "329/329 [==============================] - 1s 2ms/step - loss: 0.4196 - accuracy: 0.7996 - val_loss: 0.4182 - val_accuracy: 0.8069\n",
            "Epoch 8/20\n",
            "329/329 [==============================] - 1s 2ms/step - loss: 0.4173 - accuracy: 0.8057 - val_loss: 0.4156 - val_accuracy: 0.7993\n",
            "Epoch 9/20\n",
            "329/329 [==============================] - 1s 2ms/step - loss: 0.4161 - accuracy: 0.8028 - val_loss: 0.4194 - val_accuracy: 0.8064\n",
            "Epoch 10/20\n",
            "329/329 [==============================] - 1s 2ms/step - loss: 0.4148 - accuracy: 0.8047 - val_loss: 0.4152 - val_accuracy: 0.8022\n",
            "Epoch 11/20\n",
            "329/329 [==============================] - 1s 2ms/step - loss: 0.4151 - accuracy: 0.8034 - val_loss: 0.4191 - val_accuracy: 0.8012\n",
            "Epoch 12/20\n",
            "329/329 [==============================] - 1s 2ms/step - loss: 0.4128 - accuracy: 0.8087 - val_loss: 0.4145 - val_accuracy: 0.8050\n",
            "Epoch 13/20\n",
            "329/329 [==============================] - 1s 2ms/step - loss: 0.4125 - accuracy: 0.8083 - val_loss: 0.4171 - val_accuracy: 0.8045\n",
            "Epoch 14/20\n",
            "329/329 [==============================] - 1s 2ms/step - loss: 0.4110 - accuracy: 0.8075 - val_loss: 0.4168 - val_accuracy: 0.8050\n",
            "Epoch 15/20\n",
            "329/329 [==============================] - 1s 2ms/step - loss: 0.4099 - accuracy: 0.8059 - val_loss: 0.4236 - val_accuracy: 0.7956\n",
            "Epoch 16/20\n",
            "329/329 [==============================] - 1s 2ms/step - loss: 0.4091 - accuracy: 0.8051 - val_loss: 0.4155 - val_accuracy: 0.8055\n",
            "Epoch 17/20\n",
            "329/329 [==============================] - 1s 3ms/step - loss: 0.4068 - accuracy: 0.8124 - val_loss: 0.4164 - val_accuracy: 0.8055\n",
            "Epoch 18/20\n",
            "329/329 [==============================] - 1s 2ms/step - loss: 0.4064 - accuracy: 0.8095 - val_loss: 0.4173 - val_accuracy: 0.8060\n",
            "Epoch 19/20\n",
            "329/329 [==============================] - 1s 2ms/step - loss: 0.4052 - accuracy: 0.8122 - val_loss: 0.4171 - val_accuracy: 0.8003\n",
            "Epoch 20/20\n",
            "329/329 [==============================] - 1s 2ms/step - loss: 0.4059 - accuracy: 0.8099 - val_loss: 0.4182 - val_accuracy: 0.8022\n"
          ]
        }
      ]
    },
    {
      "cell_type": "code",
      "source": [
        "plt.plot(run_hist_3.history['accuracy'])\n",
        "plt.plot(run_hist_3.history['val_accuracy'])\n",
        "plt.title('model accuracy') \n",
        "plt.xlabel('epochs')\n",
        "plt.ylabel('accuracy')\n",
        "plt.legend(['train', 'test'], loc='upper left')\n",
        "plt.show"
      ],
      "metadata": {
        "colab": {
          "base_uri": "https://localhost:8080/",
          "height": 318
        },
        "id": "nvP5Y-FAgEvj",
        "outputId": "f3ba5ea7-ca15-485b-8c3d-2a78ad7db8ac"
      },
      "id": "nvP5Y-FAgEvj",
      "execution_count": null,
      "outputs": [
        {
          "output_type": "execute_result",
          "data": {
            "text/plain": [
              "<function matplotlib.pyplot.show>"
            ]
          },
          "metadata": {},
          "execution_count": 149
        },
        {
          "output_type": "display_data",
          "data": {
            "text/plain": [
              "<Figure size 432x288 with 1 Axes>"
            ],
            "image/png": "[encoded data removed]"
          },
          "metadata": {}
        }
      ]
    },
    {
      "cell_type": "code",
      "source": [
        ""
      ],
      "metadata": {
        "id": "fybmDORfhNZV"
      },
      "id": "fybmDORfhNZV",
      "execution_count": null,
      "outputs": []
    }
  ],
  "metadata": {
    "kernelspec": {
      "display_name": "Python 3 (ipykernel)",
      "language": "python",
      "name": "python3"
    },
    "language_info": {
      "codemirror_mode": {
        "name": "ipython",
        "version": 3
      },
      "file_extension": ".py",
      "mimetype": "text/x-python",
      "name": "python",
      "nbconvert_exporter": "python",
      "pygments_lexer": "ipython3",
      "version": "3.8.12"
    },
    "colab": {
      "name": "ml1.ipynb",
      "provenance": [],
      "collapsed_sections": []
    }
  },
  "nbformat": 4,
  "nbformat_minor": 5
}